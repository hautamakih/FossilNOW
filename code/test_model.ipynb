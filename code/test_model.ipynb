{
 "cells": [
  {
   "cell_type": "code",
   "execution_count": null,
   "metadata": {},
   "outputs": [],
   "source": [
    "%load_ext autoreload\n",
    "%autoreload 2"
   ]
  },
  {
   "cell_type": "code",
   "execution_count": null,
   "metadata": {},
   "outputs": [],
   "source": [
    "import matplotlib.pyplot as plt\n",
    "import numpy as np\n",
    "import pandas as pd\n",
    "import scipy\n",
    "import seaborn as sns\n",
    "\n",
    "from models import models, utils"
   ]
  },
  {
   "cell_type": "code",
   "execution_count": null,
   "metadata": {},
   "outputs": [],
   "source": [
    "path = \"../data/data_occ.csv\"\n",
    "\n",
    "dataframe = pd.read_csv(path, delimiter='\\t')\n",
    "\n",
    "dataframe.head()"
   ]
  },
  {
   "cell_type": "markdown",
   "metadata": {},
   "source": [
    "## 1. Test with Matrix Factorization"
   ]
  },
  {
   "cell_type": "code",
   "execution_count": null,
   "metadata": {},
   "outputs": [],
   "source": [
    "out = models.get_recommend_list_mf(dataframe, output_prob=False, num_epochs=200)\n",
    "out.head()"
   ]
  },
  {
   "cell_type": "code",
   "execution_count": null,
   "metadata": {},
   "outputs": [],
   "source": [
    "models.get_metrics_mf(dataframe, output_prob=False)"
   ]
  },
  {
   "cell_type": "markdown",
   "metadata": {},
   "source": [
    "## 2. Test with KNN"
   ]
  },
  {
   "cell_type": "code",
   "execution_count": null,
   "metadata": {},
   "outputs": [],
   "source": [
    "out = models.get_recommend_list_knn(dataframe, output_prob=False)\n",
    "\n",
    "out"
   ]
  },
  {
   "cell_type": "code",
   "execution_count": null,
   "metadata": {},
   "outputs": [],
   "source": [
    "models.get_metrics_knn(dataframe, output_prob=False)"
   ]
  },
  {
   "cell_type": "markdown",
   "metadata": {},
   "source": [
    "## 3. Test with Content-Based Filtering"
   ]
  },
  {
   "cell_type": "code",
   "execution_count": null,
   "metadata": {},
   "outputs": [],
   "source": [
    "# Genus data is necessary for content based filtering\n",
    "genus_data_path = \"../data/FossilGenera_MammalMassDiet_Jan24.csv\"\n",
    "df_genus_data = pd.read_csv(genus_data_path, sep=\",\")\n",
    "\n",
    "dental_data_path = \"../data/DentalTraits_Genus_PPPA_ds.csv\"\n",
    "df_dental_data = pd.read_csv(dental_data_path, sep=\",\")\n",
    "\n",
    "# Genus data must be preprocessed beforehand\n",
    "\n",
    "dental_cols = [\n",
    "    \"Genus\",\n",
    "    \"HY\",\n",
    "    \"LOP\",\n",
    "    \"AL\",\n",
    "    \"OL\",\n",
    "    \"SF\",\n",
    "    \"BUN\",\n",
    "    \"OT\",\n",
    "    \"Excl_AL\"\n",
    "]\n",
    "\n",
    "df_dental_data = df_dental_data[dental_cols]\n",
    "\n",
    "# With genus info, give the columns you want to use and convert categorical using one-hot-encoding\n",
    "genus_info_cols = [\n",
    "    \"Genus\",\n",
    "    \"Order\",\n",
    "    \"Family\",\n",
    "    \"Massg\",\n",
    "    \"Diet\",\n",
    "    \"DietSource\"\n",
    "]\n",
    "        \n",
    "df_genus_data = df_genus_data[genus_info_cols]\n",
    "\n",
    "dummy_cols = [\n",
    "    \"Order\",\n",
    "    \"Family\",\n",
    "    \"Diet\",\n",
    "    \"DietSource\"\n",
    "]\n",
    "\n",
    "#The genus column must be the first one in genus data\n",
    "df_genus_data = pd.get_dummies(df_genus_data, columns=dummy_cols)\n",
    "df_genus_data = df_genus_data.replace({False: 0, True: 1})\n",
    "\n",
    "# Merging dental data to other genus data\n",
    "df_genus_data = df_genus_data.merge(df_dental_data, \"left\", on=\"Genus\")\n",
    "\n",
    "# The site information must be included into matrix for the algorithm\n",
    "site_columns = [\"NAME\",\n",
    "    # 'LAT',\n",
    "    # 'LONG',\n",
    "    'MAX_AGE',\n",
    "    'MIN_AGE',\n",
    "    # 'age_range',\n",
    "    # 'Large_GenCount',\n",
    "    # 'Small_GenCount',\n",
    "    # 'Herb_GenCount',\n",
    "    # 'Nonherb_GenCount',\n",
    "    'MID_AGE'\n",
    "    ]\n",
    "\n",
    "genus_columns = dataframe.iloc[:,:-10].columns.tolist()\n",
    "dataframe_cleaned = dataframe[genus_columns + site_columns]\n",
    "\n",
    "# Site name must be the first column\n",
    "desired_column_order = ['NAME'] + [col for col in dataframe_cleaned.columns if col != 'NAME']\n",
    "dataframe_cleaned = dataframe_cleaned[desired_column_order]\n",
    "dataframe_cleaned.head()"
   ]
  },
  {
   "cell_type": "code",
   "execution_count": null,
   "metadata": {},
   "outputs": [],
   "source": [
    "out = models.get_recommend_list_content_base(dataframe_cleaned, df_genus_data, n_site_info_cols=3)\n",
    "\n",
    "out"
   ]
  },
  {
   "cell_type": "code",
   "execution_count": null,
   "metadata": {},
   "outputs": [],
   "source": [
    "models.get_metrics_content_base(dataframe)"
   ]
  },
  {
   "cell_type": "markdown",
   "metadata": {},
   "source": [
    "## 4. Test create train/test data"
   ]
  },
  {
   "cell_type": "code",
   "execution_count": null,
   "metadata": {},
   "outputs": [],
   "source": [
    "df_train, df_test = utils.split_traintest(dataframe, is_packed=False, is_encoded=False)"
   ]
  },
  {
   "cell_type": "code",
   "execution_count": null,
   "metadata": {},
   "outputs": [],
   "source": [
    "df_train"
   ]
  },
  {
   "cell_type": "code",
   "execution_count": null,
   "metadata": {},
   "outputs": [],
   "source": [
    "df_test"
   ]
  },
  {
   "cell_type": "code",
   "execution_count": null,
   "metadata": {},
   "outputs": [],
   "source": []
  }
 ],
 "metadata": {
  "kernelspec": {
   "display_name": "py",
   "language": "python",
   "name": "python3"
  },
  "language_info": {
   "codemirror_mode": {
    "name": "ipython",
    "version": 3
   },
   "file_extension": ".py",
   "mimetype": "text/x-python",
   "name": "python",
   "nbconvert_exporter": "python",
   "pygments_lexer": "ipython3",
   "version": "3.12.2"
  }
 },
 "nbformat": 4,
 "nbformat_minor": 2
}
