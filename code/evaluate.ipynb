{
 "cells": [
  {
   "cell_type": "code",
   "execution_count": null,
   "metadata": {},
   "outputs": [],
   "source": [
    "from ContentBasedFiltering import ContentBasedFiltering\n",
    "from sklearn.metrics import root_mean_squared_error, mean_squared_error, mean_absolute_error, f1_score\n",
    "from scipy import stats\n",
    "\n",
    "from surprise import Dataset, Reader\n",
    "from surprise import KNNBasic, KNNWithMeans\n",
    "from surprise.model_selection import train_test_split\n",
    "\n",
    "import pandas as pd\n",
    "import numpy as np\n",
    "import utils_local"
   ]
  },
  {
   "cell_type": "markdown",
   "metadata": {},
   "source": [
    "## Evalaution functions"
   ]
  },
  {
   "cell_type": "code",
   "execution_count": null,
   "metadata": {},
   "outputs": [],
   "source": [
    "def f(df_species: pd.DataFrame):\n",
    "    if np.sum(df_species[\"occurence\"]) == 0:\n",
    "        return 0\n",
    "\n",
    "    preferences = df_species[\"similarity\"]\n",
    "    percentile_rank = 1 - stats.percentileofscore(preferences, preferences) / 100\n",
    "\n",
    "    expected_rank_species = np.sum(df_species[\"occurence\"] * percentile_rank) / np.sum(df_species[\"occurence\"])\n",
    "\n",
    "    return expected_rank_species"
   ]
  },
  {
   "cell_type": "code",
   "execution_count": null,
   "metadata": {},
   "outputs": [],
   "source": [
    "def calc_expected_percentile_rank(df_pred: pd.DataFrame) -> float:\n",
    "    \"\"\"Calculate the expected percentile rank as in paper \"Collaborative Filtering for Implicit Feedback Datasets\"\n",
    "\n",
    "    Args:\n",
    "        df_pred (pd.DataFrame): prediction dataframe\n",
    "\n",
    "    Returns:\n",
    "        float: expected percentile rank\n",
    "    \"\"\"\n",
    "    expected_ranks = (\n",
    "        df_pred.sort_values(by=\"similarity\")\n",
    "        .groupby(by=\"genus\")\n",
    "        .apply(f, include_groups=False)\n",
    "    )\n",
    "    expected_percentile_rank = expected_ranks[expected_ranks > 0].mean()\n",
    "\n",
    "    return expected_percentile_rank"
   ]
  },
  {
   "cell_type": "markdown",
   "metadata": {},
   "source": [
    "## Preprocessing train and test data"
   ]
  },
  {
   "cell_type": "code",
   "execution_count": null,
   "metadata": {},
   "outputs": [],
   "source": [
    "# Reading train and test data\n",
    "PATH_RAW_DATA = \"../data/\"\n",
    "df_raw_data = pd.read_csv(PATH_RAW_DATA + \"AllSites_SiteOccurrences_AllGenera_26.1.24.csv\")\n",
    "df_genus_data = pd.read_csv(PATH_RAW_DATA + \"FossilGenera_MammalMassDiet_Jan24.csv\", sep=\",\")\n",
    "df_dental_data = pd.read_csv(PATH_RAW_DATA + \"DentalTraits_Genus_PPPA_ds.csv\", sep=\",\")\n",
    "\n",
    "display(df_raw_data)\n",
    "display(df_genus_data)\n",
    "display(df_dental_data)"
   ]
  },
  {
   "cell_type": "code",
   "execution_count": null,
   "metadata": {},
   "outputs": [],
   "source": [
    "dental_cols = [\n",
    "    \"Genus\",\n",
    "    \"HY\",\n",
    "    \"LOP\",\n",
    "    \"AL\",\n",
    "    \"OL\",\n",
    "    \"SF\",\n",
    "    \"BUN\",\n",
    "    \"OT\",\n",
    "    \"Excl_AL\"\n",
    "]\n",
    "\n",
    "df_dental_data = df_dental_data[dental_cols]\n",
    "display(df_dental_data)"
   ]
  },
  {
   "cell_type": "code",
   "execution_count": null,
   "metadata": {},
   "outputs": [],
   "source": [
    "# With genus info, give the columns you want to use and convert categorical using one-hot-encoding\n",
    "genus_info_cols = [\n",
    "    \"Genus\",\n",
    "    \"Order\",\n",
    "    \"Family\",\n",
    "    \"Massg\",\n",
    "    \"Diet\",\n",
    "    \"DietSource\"\n",
    "]\n",
    "        \n",
    "df_genus_data = df_genus_data[genus_info_cols]\n",
    "\n",
    "dummy_cols = [\n",
    "    \"Order\",\n",
    "    \"Family\",\n",
    "    \"Diet\",\n",
    "    \"DietSource\"\n",
    "]\n",
    "\n",
    "#The genus column must be the first one in genus data\n",
    "df_genus_data = pd.get_dummies(df_genus_data, columns=dummy_cols)\n",
    "df_genus_data = df_genus_data.replace({False: 0, True: 1})\n",
    "df_genus_data = df_genus_data.merge(df_dental_data, \"left\", on=\"Genus\")\n",
    "\n",
    "\n",
    "PATH_DIR_DATA_PROCESS = \"../data/data_processed/\"\n",
    "\n",
    "data_train = np.load(PATH_DIR_DATA_PROCESS + \"data_train.npy\", allow_pickle=True)\n",
    "data_val = np.load(PATH_DIR_DATA_PROCESS + \"data_val.npy\", allow_pickle=True)\n",
    "\n",
    "df_train = utils_local.conv_dataset_patch2df(data_train)\n",
    "df_val = utils_local.conv_dataset_patch2df(data_val)\n",
    "\n",
    "print(f\"train: {df_train.shape}\")\n",
    "print(f\"val: {df_val.shape}\")\n",
    "\n",
    "display(df_genus_data.head())\n",
    "display(df_train.head())\n",
    "display(df_val.head())"
   ]
  },
  {
   "cell_type": "code",
   "execution_count": null,
   "metadata": {},
   "outputs": [],
   "source": [
    "# Deal with the missing values in df_genus_data\n",
    "df_genus_data = df_genus_data.fillna(-1)"
   ]
  },
  {
   "cell_type": "code",
   "execution_count": null,
   "metadata": {},
   "outputs": [],
   "source": [
    "# Encrypting the genus and site information\n",
    "path_dir_encode = PATH_DIR_DATA_PROCESS\n",
    "\n",
    "path_enc_genera = path_dir_encode + \"ordinal_enc_species.json\"\n",
    "path_enc_site = path_dir_encode + \"ordinal_enc_site.json\"\n",
    "\n",
    "enc_genera = utils_local.CategoryDict.from_file(path_enc_genera)\n",
    "enc_site = utils_local.CategoryDict.from_file(path_enc_site)"
   ]
  },
  {
   "cell_type": "code",
   "execution_count": null,
   "metadata": {},
   "outputs": [],
   "source": [
    "df_train[\"site\"] = df_train[\"site\"].map(enc_site.dict_id2name)\n",
    "df_train[\"species\"] = df_train[\"species\"].map(enc_genera.dict_id2name)\n",
    "\n",
    "df_val[\"site\"] = df_val[\"site\"].map(enc_site.dict_id2name)\n",
    "df_val[\"species\"] = df_val[\"species\"].map(enc_genera.dict_id2name)\n",
    "\n",
    "# Renaming columns\n",
    "df_train = df_train.rename(columns={\"site\": \"SITE_NAME\", \"species\": \"genus\"})\n",
    "df_val = df_val.rename(columns={\"site\": \"SITE_NAME\", \"species\": \"genus\"})\n",
    "\n",
    "display(df_train.head())\n",
    "display(df_val.head())"
   ]
  },
  {
   "cell_type": "code",
   "execution_count": null,
   "metadata": {},
   "outputs": [],
   "source": [
    "# Reshaping into matrix form for the algorithm\n",
    "df_train_non_matrix = df_train.copy()\n",
    "df_train = pd.pivot(df_train, index=\"SITE_NAME\", columns=\"genus\", values=\"occurence\").fillna(0)\n",
    "display(df_train.head())"
   ]
  },
  {
   "cell_type": "code",
   "execution_count": null,
   "metadata": {},
   "outputs": [],
   "source": [
    "# The site information must be included into matrix for the algorithm\n",
    "cols_redundant = [\"SITE_NAME\",\n",
    "    'LAT',\n",
    "    'LONG',\n",
    "    'MAX_AGE',\n",
    "    'MIN_AGE',\n",
    "    'age_range',\n",
    "    'Large_GenCount',\n",
    "    'Small_GenCount',\n",
    "    'Herb_GenCount',\n",
    "    'Nonherb_GenCount',\n",
    "    'mid_age'\n",
    "    ]\n",
    "\n",
    "df_redundant = df_raw_data[cols_redundant]\n",
    "df_train = df_train.merge(df_redundant, how=\"left\", left_index=True, right_on=\"SITE_NAME\")\n",
    "\n",
    "desired_column_order = ['SITE_NAME'] + [col for col in df_train.columns if col != 'SITE_NAME']\n",
    "df_train = df_train[desired_column_order]\n",
    "\n",
    "df_train.head()"
   ]
  },
  {
   "cell_type": "markdown",
   "metadata": {},
   "source": [
    "## Training the model and making predictions"
   ]
  },
  {
   "cell_type": "code",
   "execution_count": null,
   "metadata": {},
   "outputs": [],
   "source": [
    "# Train the algorithm with train dataset\n",
    "cbf = ContentBasedFiltering()\n",
    "cbf.fit(df_train, df_genus_data, n_site_columns=10, normalization=\"min-max\")"
   ]
  },
  {
   "cell_type": "code",
   "execution_count": null,
   "metadata": {},
   "outputs": [],
   "source": [
    "# Predictions and true values\n",
    "true_and_pred = cbf.predict(df_val)\n",
    "true_and_pred = true_and_pred.fillna(0)\n",
    "true_and_pred.head()"
   ]
  },
  {
   "cell_type": "markdown",
   "metadata": {},
   "source": [
    "## Evaluating"
   ]
  },
  {
   "cell_type": "code",
   "execution_count": null,
   "metadata": {},
   "outputs": [],
   "source": [
    "epr = calc_expected_percentile_rank(true_and_pred)\n",
    "rms = root_mean_squared_error(true_and_pred[\"occurence\"], true_and_pred[\"similarity\"])\n",
    "mae = mean_absolute_error(true_and_pred[\"occurence\"], true_and_pred[\"similarity\"])\n",
    "\n",
    "print(\"Expected percentile rank:\", epr, \"RMS:\", rms, \"MAE:\", mae)"
   ]
  },
  {
   "cell_type": "markdown",
   "metadata": {},
   "source": [
    "## Checking the site info and genus info matrices"
   ]
  },
  {
   "cell_type": "code",
   "execution_count": null,
   "metadata": {},
   "outputs": [],
   "source": [
    "site_info = cbf.site_info_with_genus_info\n",
    "genus_info = cbf.genus_info_with_site_info"
   ]
  },
  {
   "cell_type": "markdown",
   "metadata": {},
   "source": [
    "# Evaluating collaborative-knn"
   ]
  },
  {
   "cell_type": "code",
   "execution_count": null,
   "metadata": {},
   "outputs": [],
   "source": [
    "df_raw_train = df_raw_data.iloc[:, :-21].set_index(\"SITE_NAME\")\n",
    "df_raw_train_non_matrix = df_raw_train.stack().reset_index().rename(columns={\"level_1\": \"genus\", 0: \"presence\"})\n",
    "df_raw_train_non_matrix"
   ]
  },
  {
   "cell_type": "code",
   "execution_count": null,
   "metadata": {},
   "outputs": [],
   "source": [
    "reader = Reader(rating_scale=(0, 1))\n",
    "data = Dataset.load_from_df(df_train_non_matrix, reader) # Column order must be user, item, rating\n",
    "\n",
    "sim_options = {\n",
    "    'name': \"MSD\",\n",
    "    'user_based': True  # True for user-user, False for item-item\n",
    "}\n",
    "\n",
    "trainset = data.build_full_trainset()\n",
    "\n",
    "knn = KNNBasic(k=5, min_k=1, sim_options=sim_options)\n",
    "knn.fit(trainset)\n"
   ]
  },
  {
   "cell_type": "code",
   "execution_count": null,
   "metadata": {},
   "outputs": [],
   "source": [
    "data_test = Dataset.load_from_df(df_val, reader)\n",
    "data_test = data_test.build_full_trainset()\n",
    "testset = data_test.build_testset()\n",
    "\n",
    "# Get predictions for all user-item pairs\n",
    "predictions = knn.test(testset)\n",
    "\n",
    "# Get item scores from the predictions\n",
    "item_scores = [(prediction.uid, prediction.iid, prediction.est) for prediction in predictions]\n",
    "knn_pred = pd.DataFrame(item_scores, columns =['SITE_NAME', 'PREDICTED_GENUS', 'similarity'])\n",
    "\n",
    "knn_pred"
   ]
  },
  {
   "cell_type": "code",
   "execution_count": null,
   "metadata": {},
   "outputs": [],
   "source": [
    "knn_pred = knn_pred.merge(df_val, how=\"left\", left_on=[\"SITE_NAME\", \"PREDICTED_GENUS\"], right_on=[\"SITE_NAME\", \"genus\"])\n",
    "knn_pred"
   ]
  },
  {
   "cell_type": "code",
   "execution_count": null,
   "metadata": {},
   "outputs": [],
   "source": [
    "epr = calc_expected_percentile_rank(knn_pred)\n",
    "rms = root_mean_squared_error(knn_pred[\"occurence\"], knn_pred[\"similarity\"])\n",
    "mae = mean_absolute_error(knn_pred[\"occurence\"], knn_pred[\"similarity\"])\n",
    "\n",
    "print(\"Expected percentile rank:\", epr, \"RMS:\", rms, \"MAE:\", mae)"
   ]
  },
  {
   "cell_type": "code",
   "execution_count": null,
   "metadata": {},
   "outputs": [],
   "source": []
  }
 ],
 "metadata": {
  "kernelspec": {
   "display_name": "fossilnow",
   "language": "python",
   "name": "python3"
  },
  "language_info": {
   "codemirror_mode": {
    "name": "ipython",
    "version": 3
   },
   "file_extension": ".py",
   "mimetype": "text/x-python",
   "name": "python",
   "nbconvert_exporter": "python",
   "pygments_lexer": "ipython3",
   "version": "3.12.2"
  }
 },
 "nbformat": 4,
 "nbformat_minor": 2
}
