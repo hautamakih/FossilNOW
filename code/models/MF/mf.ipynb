{
 "cells": [
  {
   "cell_type": "code",
   "execution_count": 1,
   "metadata": {},
   "outputs": [
    {
     "name": "stdout",
     "output_type": "stream",
     "text": [
      "/Users/macos/Uni/1st_year/period_3/DSProj/code/models\n"
     ]
    }
   ],
   "source": [
    "%cd ../\n",
    "\n",
    "%load_ext autoreload\n",
    "%autoreload 2"
   ]
  },
  {
   "cell_type": "code",
   "execution_count": 2,
   "metadata": {},
   "outputs": [],
   "source": [
    "import math\n",
    "from pathlib import Path\n",
    "\n",
    "import numpy as np\n",
    "import torch\n",
    "import torch.nn as torch_nn\n",
    "import pandas as pd\n",
    "from torch.optim import AdamW\n",
    "from torch.utils.data import DataLoader, Dataset\n",
    "from tqdm.notebook import tqdm\n",
    "\n",
    "from MF.model import MF\n",
    "import evaluation\n",
    "import utils"
   ]
  },
  {
   "cell_type": "code",
   "execution_count": 12,
   "metadata": {},
   "outputs": [],
   "source": [
    "NUM_SITES_PER_PACK = 2\n",
    "NUM_SPECIES_PER_PACK = 4\n",
    "BATCH_SIZE = 25\n",
    "LR = 1e-3\n",
    "EPS = 1e-6\n",
    "N_EPOCHS = 30\n",
    "USE_REGULARIZATION = True\n",
    "PROBABILITY_OUTPUT = False\n",
    "\n",
    "DEVICE = \"mps\"\n",
    "PATH_DIR_DATA_PROCESS = Path(\"data_processed\")"
   ]
  },
  {
   "cell_type": "markdown",
   "metadata": {},
   "source": [
    "# 1. Load data train/val and encoder"
   ]
  },
  {
   "cell_type": "code",
   "execution_count": 4,
   "metadata": {},
   "outputs": [],
   "source": [
    "path_dir_data = PATH_DIR_DATA_PROCESS / \"trainval\"\n",
    "\n",
    "path_data_train = path_dir_data / \"data_train.npy\"\n",
    "path_data_val = path_dir_data / \"data_val.npy\"\n",
    "\n",
    "data_train = np.load(path_data_train, allow_pickle=True)\n",
    "data_val = np.load(path_data_val, allow_pickle=True)"
   ]
  },
  {
   "cell_type": "code",
   "execution_count": 5,
   "metadata": {},
   "outputs": [],
   "source": [
    "path_dir_encode = PATH_DIR_DATA_PROCESS / \"encoder\"\n",
    "\n",
    "path_enc_species = path_dir_encode / \"ordinal_enc_species.json\"\n",
    "path_enc_site = path_dir_encode / \"ordinal_enc_site.json\"\n",
    "\n",
    "enc_species = utils.CategoryDict.from_file(path_enc_species)\n",
    "enc_site = utils.CategoryDict.from_file(path_enc_site)"
   ]
  },
  {
   "cell_type": "markdown",
   "metadata": {},
   "source": [
    "# 2. Create train/val data_loader"
   ]
  },
  {
   "cell_type": "code",
   "execution_count": 6,
   "metadata": {},
   "outputs": [],
   "source": [
    "class FossilNOW(Dataset):\n",
    "    def __init__(self, data: list) -> None:\n",
    "        super().__init__()\n",
    "\n",
    "        self.data = data\n",
    "\n",
    "    def __len__(self):\n",
    "        return len(self.data)\n",
    "    \n",
    "    def __getitem__(self, index):\n",
    "        x = self.data[index]    \n",
    "    \n",
    "        occurence = torch.tensor(x['occurence'], device=DEVICE, dtype=torch.float32)\n",
    "        sites = torch.tensor(x['sites'], device=DEVICE, dtype=torch.int32)\n",
    "        species = torch.tensor(x['genera'], device=DEVICE, dtype=torch.int32)\n",
    "\n",
    "        return occurence, sites, species\n",
    "    \n",
    "dataset_train, dataset_val = FossilNOW(data_train), FossilNOW(data_val)\n",
    "loader_train = DataLoader(dataset_train, batch_size=BATCH_SIZE, shuffle=True)\n",
    "loader_val = DataLoader(dataset_val, batch_size=BATCH_SIZE, shuffle=False)\n",
    "    "
   ]
  },
  {
   "cell_type": "markdown",
   "metadata": {},
   "source": [
    "# 3. Model"
   ]
  },
  {
   "cell_type": "code",
   "execution_count": 7,
   "metadata": {},
   "outputs": [],
   "source": [
    "mf = MF(\n",
    "    enc_site.size(),\n",
    "    enc_species.size(),\n",
    "    prob_output=PROBABILITY_OUTPUT,\n",
    ").to(device=torch.device(DEVICE))\n",
    "\n",
    "optimizer = AdamW(mf.parameters(), lr=LR, weight_decay=2e-5 if USE_REGULARIZATION else 0)\n",
    "criterion = torch_nn.MSELoss(reduction=\"none\")"
   ]
  },
  {
   "cell_type": "markdown",
   "metadata": {},
   "source": [
    "## 4. Training"
   ]
  },
  {
   "cell_type": "code",
   "execution_count": 8,
   "metadata": {},
   "outputs": [],
   "source": [
    "def calc_loss(occ: torch.Tensor, pred: torch.Tensor, alpha: float = 10):\n",
    "    loss = criterion(occ, pred)\n",
    "\n",
    "    confidence = 1 + alpha * occ\n",
    "    loss = torch.mean(confidence * loss)\n",
    "\n",
    "    return loss\n",
    "\n",
    "def train(model, loader, optimizer):\n",
    "    model.train()\n",
    "\n",
    "    for x in tqdm(loader, total=math.ceil(len(dataset_train) / BATCH_SIZE)):\n",
    "        optimizer.zero_grad()\n",
    "\n",
    "        occurence, idx_sites, idx_species = x\n",
    "\n",
    "        pred = model(idx_sites, idx_species)\n",
    "        loss = calc_loss(occurence, pred)\n",
    "\n",
    "        loss.backward()\n",
    "        optimizer.step()\n",
    "\n",
    "def val(model, loader) -> tuple:\n",
    "    preds = []\n",
    "\n",
    "    model.eval()\n",
    "    with torch.no_grad():\n",
    "        losses = []\n",
    "        for x in tqdm(loader, total=int(math.ceil(len(dataset_val) / BATCH_SIZE))):\n",
    "            occurence, idx_sites, idx_species = x\n",
    "\n",
    "            pred = model(idx_sites, idx_species)\n",
    "            loss = calc_loss(occurence, pred)\n",
    "\n",
    "            preds.append({\n",
    "                'sites': idx_sites.detach().cpu().numpy(),\n",
    "                'species': idx_species.detach().cpu().numpy(), \n",
    "                'occurence': occurence.detach().cpu().numpy(),\n",
    "                'prediction': pred.detach().cpu().numpy()\n",
    "            })\n",
    "\n",
    "            losses.append(loss.item())\n",
    "\n",
    "    loss = sum(losses)/len(losses)\n",
    "\n",
    "    return loss, preds\n"
   ]
  },
  {
   "cell_type": "code",
   "execution_count": 9,
   "metadata": {},
   "outputs": [
    {
     "name": "stdout",
     "output_type": "stream",
     "text": [
      "== Epoch: 00\n"
     ]
    },
    {
     "data": {
      "application/vnd.jupyter.widget-view+json": {
       "model_id": "b81791ae5bb84e46b9c9f51dee2cc0e8",
       "version_major": 2,
       "version_minor": 0
      },
      "text/plain": [
       "  0%|          | 0/1520 [00:00<?, ?it/s]"
      ]
     },
     "metadata": {},
     "output_type": "display_data"
    },
    {
     "data": {
      "application/vnd.jupyter.widget-view+json": {
       "model_id": "f0f51f5669604d6dbc9bb1123cae5a0d",
       "version_major": 2,
       "version_minor": 0
      },
      "text/plain": [
       "  0%|          | 0/103 [00:00<?, ?it/s]"
      ]
     },
     "metadata": {},
     "output_type": "display_data"
    },
    {
     "name": "stdout",
     "output_type": "stream",
     "text": [
      "Loss val: 3.345227643124108\n",
      "== Epoch: 01\n"
     ]
    },
    {
     "data": {
      "application/vnd.jupyter.widget-view+json": {
       "model_id": "2644db15a10643ddb787e43dc6f7bd5f",
       "version_major": 2,
       "version_minor": 0
      },
      "text/plain": [
       "  0%|          | 0/1520 [00:00<?, ?it/s]"
      ]
     },
     "metadata": {},
     "output_type": "display_data"
    },
    {
     "data": {
      "application/vnd.jupyter.widget-view+json": {
       "model_id": "881c1df914af4340a7ba823b704deba5",
       "version_major": 2,
       "version_minor": 0
      },
      "text/plain": [
       "  0%|          | 0/103 [00:00<?, ?it/s]"
      ]
     },
     "metadata": {},
     "output_type": "display_data"
    },
    {
     "name": "stdout",
     "output_type": "stream",
     "text": [
      "Loss val: 0.6033955086203455\n",
      "== Epoch: 02\n"
     ]
    },
    {
     "data": {
      "application/vnd.jupyter.widget-view+json": {
       "model_id": "05f90ac11ddb430aa8029fa93a97608b",
       "version_major": 2,
       "version_minor": 0
      },
      "text/plain": [
       "  0%|          | 0/1520 [00:00<?, ?it/s]"
      ]
     },
     "metadata": {},
     "output_type": "display_data"
    },
    {
     "data": {
      "application/vnd.jupyter.widget-view+json": {
       "model_id": "b064197bbfab4bdd9cac887382770692",
       "version_major": 2,
       "version_minor": 0
      },
      "text/plain": [
       "  0%|          | 0/103 [00:00<?, ?it/s]"
      ]
     },
     "metadata": {},
     "output_type": "display_data"
    },
    {
     "name": "stdout",
     "output_type": "stream",
     "text": [
      "Loss val: 0.3018984696240101\n",
      "== Epoch: 03\n"
     ]
    },
    {
     "data": {
      "application/vnd.jupyter.widget-view+json": {
       "model_id": "308ac90cbf15436cbc8bb56b08e8f236",
       "version_major": 2,
       "version_minor": 0
      },
      "text/plain": [
       "  0%|          | 0/1520 [00:00<?, ?it/s]"
      ]
     },
     "metadata": {},
     "output_type": "display_data"
    },
    {
     "data": {
      "application/vnd.jupyter.widget-view+json": {
       "model_id": "7001ac6066b14b68b2418098787c4997",
       "version_major": 2,
       "version_minor": 0
      },
      "text/plain": [
       "  0%|          | 0/103 [00:00<?, ?it/s]"
      ]
     },
     "metadata": {},
     "output_type": "display_data"
    },
    {
     "name": "stdout",
     "output_type": "stream",
     "text": [
      "Loss val: 0.2529145756248132\n",
      "== Epoch: 04\n"
     ]
    },
    {
     "data": {
      "application/vnd.jupyter.widget-view+json": {
       "model_id": "d97629c9a5414ed5820163c66fc3e6a2",
       "version_major": 2,
       "version_minor": 0
      },
      "text/plain": [
       "  0%|          | 0/1520 [00:00<?, ?it/s]"
      ]
     },
     "metadata": {},
     "output_type": "display_data"
    },
    {
     "data": {
      "application/vnd.jupyter.widget-view+json": {
       "model_id": "ad8c1a626269406f9d09248e4425f189",
       "version_major": 2,
       "version_minor": 0
      },
      "text/plain": [
       "  0%|          | 0/103 [00:00<?, ?it/s]"
      ]
     },
     "metadata": {},
     "output_type": "display_data"
    },
    {
     "name": "stdout",
     "output_type": "stream",
     "text": [
      "Loss val: 0.2412068058275482\n",
      "== Epoch: 05\n"
     ]
    },
    {
     "data": {
      "application/vnd.jupyter.widget-view+json": {
       "model_id": "f268e736536d410595cd7486f6d90ce5",
       "version_major": 2,
       "version_minor": 0
      },
      "text/plain": [
       "  0%|          | 0/1520 [00:00<?, ?it/s]"
      ]
     },
     "metadata": {},
     "output_type": "display_data"
    },
    {
     "data": {
      "application/vnd.jupyter.widget-view+json": {
       "model_id": "003ead983fe644478748832dfb08ed7d",
       "version_major": 2,
       "version_minor": 0
      },
      "text/plain": [
       "  0%|          | 0/103 [00:00<?, ?it/s]"
      ]
     },
     "metadata": {},
     "output_type": "display_data"
    },
    {
     "name": "stdout",
     "output_type": "stream",
     "text": [
      "Loss val: 0.2332743597262114\n",
      "== Epoch: 06\n"
     ]
    },
    {
     "data": {
      "application/vnd.jupyter.widget-view+json": {
       "model_id": "d2923db6cc5e48fb977fcf74f18da7dd",
       "version_major": 2,
       "version_minor": 0
      },
      "text/plain": [
       "  0%|          | 0/1520 [00:00<?, ?it/s]"
      ]
     },
     "metadata": {},
     "output_type": "display_data"
    },
    {
     "data": {
      "application/vnd.jupyter.widget-view+json": {
       "model_id": "6b6b860b6a13476684c189a0ececb5fa",
       "version_major": 2,
       "version_minor": 0
      },
      "text/plain": [
       "  0%|          | 0/103 [00:00<?, ?it/s]"
      ]
     },
     "metadata": {},
     "output_type": "display_data"
    },
    {
     "name": "stdout",
     "output_type": "stream",
     "text": [
      "Loss val: 0.21762415238665145\n",
      "== Epoch: 07\n"
     ]
    },
    {
     "data": {
      "application/vnd.jupyter.widget-view+json": {
       "model_id": "fd0d5c3c3f6e4f629e2bae794f88f2df",
       "version_major": 2,
       "version_minor": 0
      },
      "text/plain": [
       "  0%|          | 0/1520 [00:00<?, ?it/s]"
      ]
     },
     "metadata": {},
     "output_type": "display_data"
    },
    {
     "data": {
      "application/vnd.jupyter.widget-view+json": {
       "model_id": "a0d07bf68f98429bb4f359dc75fb72aa",
       "version_major": 2,
       "version_minor": 0
      },
      "text/plain": [
       "  0%|          | 0/103 [00:00<?, ?it/s]"
      ]
     },
     "metadata": {},
     "output_type": "display_data"
    },
    {
     "name": "stdout",
     "output_type": "stream",
     "text": [
      "Loss val: 0.19598486947203145\n",
      "== Epoch: 08\n"
     ]
    },
    {
     "data": {
      "application/vnd.jupyter.widget-view+json": {
       "model_id": "ae77089f28a64625bb1693ad971af197",
       "version_major": 2,
       "version_minor": 0
      },
      "text/plain": [
       "  0%|          | 0/1520 [00:00<?, ?it/s]"
      ]
     },
     "metadata": {},
     "output_type": "display_data"
    },
    {
     "data": {
      "application/vnd.jupyter.widget-view+json": {
       "model_id": "3e0ea068fbd74cd6a52e0c8a6b82a7c5",
       "version_major": 2,
       "version_minor": 0
      },
      "text/plain": [
       "  0%|          | 0/103 [00:00<?, ?it/s]"
      ]
     },
     "metadata": {},
     "output_type": "display_data"
    },
    {
     "name": "stdout",
     "output_type": "stream",
     "text": [
      "Loss val: 0.17769343984647862\n",
      "== Epoch: 09\n"
     ]
    },
    {
     "data": {
      "application/vnd.jupyter.widget-view+json": {
       "model_id": "ef0ecb17d536458094573d1ce2623970",
       "version_major": 2,
       "version_minor": 0
      },
      "text/plain": [
       "  0%|          | 0/1520 [00:00<?, ?it/s]"
      ]
     },
     "metadata": {},
     "output_type": "display_data"
    },
    {
     "data": {
      "application/vnd.jupyter.widget-view+json": {
       "model_id": "7a2bf876fe9743a18d9b97e50654a357",
       "version_major": 2,
       "version_minor": 0
      },
      "text/plain": [
       "  0%|          | 0/103 [00:00<?, ?it/s]"
      ]
     },
     "metadata": {},
     "output_type": "display_data"
    },
    {
     "name": "stdout",
     "output_type": "stream",
     "text": [
      "Loss val: 0.16967555168039591\n",
      "== Epoch: 10\n"
     ]
    },
    {
     "data": {
      "application/vnd.jupyter.widget-view+json": {
       "model_id": "904e0fd366284ec9b88e10c9be29094f",
       "version_major": 2,
       "version_minor": 0
      },
      "text/plain": [
       "  0%|          | 0/1520 [00:00<?, ?it/s]"
      ]
     },
     "metadata": {},
     "output_type": "display_data"
    },
    {
     "data": {
      "application/vnd.jupyter.widget-view+json": {
       "model_id": "8fcaf6e482af45a4a6e0702d82acc8ed",
       "version_major": 2,
       "version_minor": 0
      },
      "text/plain": [
       "  0%|          | 0/103 [00:00<?, ?it/s]"
      ]
     },
     "metadata": {},
     "output_type": "display_data"
    },
    {
     "name": "stdout",
     "output_type": "stream",
     "text": [
      "Loss val: 0.16175832841726182\n",
      "== Epoch: 11\n"
     ]
    },
    {
     "data": {
      "application/vnd.jupyter.widget-view+json": {
       "model_id": "7ab7b7bdab114d9bb0e3e80676645950",
       "version_major": 2,
       "version_minor": 0
      },
      "text/plain": [
       "  0%|          | 0/1520 [00:00<?, ?it/s]"
      ]
     },
     "metadata": {},
     "output_type": "display_data"
    },
    {
     "data": {
      "application/vnd.jupyter.widget-view+json": {
       "model_id": "3cb75aa8df2041b4bf9ba16cb8024583",
       "version_major": 2,
       "version_minor": 0
      },
      "text/plain": [
       "  0%|          | 0/103 [00:00<?, ?it/s]"
      ]
     },
     "metadata": {},
     "output_type": "display_data"
    },
    {
     "name": "stdout",
     "output_type": "stream",
     "text": [
      "Loss val: 0.16018562633725045\n",
      "== Epoch: 12\n"
     ]
    },
    {
     "data": {
      "application/vnd.jupyter.widget-view+json": {
       "model_id": "1254f28cb6f240d5bba725760a12c7bc",
       "version_major": 2,
       "version_minor": 0
      },
      "text/plain": [
       "  0%|          | 0/1520 [00:00<?, ?it/s]"
      ]
     },
     "metadata": {},
     "output_type": "display_data"
    },
    {
     "data": {
      "application/vnd.jupyter.widget-view+json": {
       "model_id": "4a52bed8e9c9478fb1cf239774231128",
       "version_major": 2,
       "version_minor": 0
      },
      "text/plain": [
       "  0%|          | 0/103 [00:00<?, ?it/s]"
      ]
     },
     "metadata": {},
     "output_type": "display_data"
    },
    {
     "name": "stdout",
     "output_type": "stream",
     "text": [
      "Loss val: 0.1583633057556106\n",
      "== Epoch: 13\n"
     ]
    },
    {
     "data": {
      "application/vnd.jupyter.widget-view+json": {
       "model_id": "dcb9ee64c1e545599b634235dbdfa0d8",
       "version_major": 2,
       "version_minor": 0
      },
      "text/plain": [
       "  0%|          | 0/1520 [00:00<?, ?it/s]"
      ]
     },
     "metadata": {},
     "output_type": "display_data"
    },
    {
     "data": {
      "application/vnd.jupyter.widget-view+json": {
       "model_id": "26f9778784734331b361e7616ed97c35",
       "version_major": 2,
       "version_minor": 0
      },
      "text/plain": [
       "  0%|          | 0/103 [00:00<?, ?it/s]"
      ]
     },
     "metadata": {},
     "output_type": "display_data"
    }
   ],
   "source": [
    "best_loss_val = 10e10\n",
    "\n",
    "for n in range(N_EPOCHS):\n",
    "    print(f\"== Epoch: {n:02d}\")\n",
    "    \n",
    "    train(mf, loader_train, optimizer)\n",
    "\n",
    "    loss_val, preds_val = val(mf, loader_val)\n",
    "\n",
    "    if loss_val < best_loss_val:\n",
    "        best_loss_val = loss_val\n",
    "    else:\n",
    "        break\n",
    "\n",
    "    print(f\"Loss val: {loss_val}\")"
   ]
  },
  {
   "cell_type": "markdown",
   "metadata": {},
   "source": [
    "# 5. Evaluate"
   ]
  },
  {
   "cell_type": "code",
   "execution_count": 13,
   "metadata": {},
   "outputs": [
    {
     "data": {
      "application/vnd.jupyter.widget-view+json": {
       "model_id": "ad192e13f3e34ccbb4a8a07bae8e1174",
       "version_major": 2,
       "version_minor": 0
      },
      "text/plain": [
       "  0%|          | 0/103 [00:00<?, ?it/s]"
      ]
     },
     "metadata": {},
     "output_type": "display_data"
    },
    {
     "data": {
      "text/html": [
       "<div>\n",
       "<style scoped>\n",
       "    .dataframe tbody tr th:only-of-type {\n",
       "        vertical-align: middle;\n",
       "    }\n",
       "\n",
       "    .dataframe tbody tr th {\n",
       "        vertical-align: top;\n",
       "    }\n",
       "\n",
       "    .dataframe thead th {\n",
       "        text-align: right;\n",
       "    }\n",
       "</style>\n",
       "<table border=\"1\" class=\"dataframe\">\n",
       "  <thead>\n",
       "    <tr style=\"text-align: right;\">\n",
       "      <th></th>\n",
       "      <th>site</th>\n",
       "      <th>species</th>\n",
       "      <th>occurence</th>\n",
       "      <th>pred</th>\n",
       "    </tr>\n",
       "  </thead>\n",
       "  <tbody>\n",
       "    <tr>\n",
       "      <th>0</th>\n",
       "      <td>198</td>\n",
       "      <td>116</td>\n",
       "      <td>0.0</td>\n",
       "      <td>0.705022</td>\n",
       "    </tr>\n",
       "    <tr>\n",
       "      <th>1</th>\n",
       "      <td>198</td>\n",
       "      <td>117</td>\n",
       "      <td>0.0</td>\n",
       "      <td>0.705518</td>\n",
       "    </tr>\n",
       "    <tr>\n",
       "      <th>2</th>\n",
       "      <td>198</td>\n",
       "      <td>118</td>\n",
       "      <td>0.0</td>\n",
       "      <td>0.556231</td>\n",
       "    </tr>\n",
       "    <tr>\n",
       "      <th>3</th>\n",
       "      <td>198</td>\n",
       "      <td>119</td>\n",
       "      <td>0.0</td>\n",
       "      <td>0.544867</td>\n",
       "    </tr>\n",
       "    <tr>\n",
       "      <th>4</th>\n",
       "      <td>199</td>\n",
       "      <td>116</td>\n",
       "      <td>0.0</td>\n",
       "      <td>0.376315</td>\n",
       "    </tr>\n",
       "  </tbody>\n",
       "</table>\n",
       "</div>"
      ],
      "text/plain": [
       "   site  species  occurence      pred\n",
       "0   198      116        0.0  0.705022\n",
       "1   198      117        0.0  0.705518\n",
       "2   198      118        0.0  0.556231\n",
       "3   198      119        0.0  0.544867\n",
       "4   199      116        0.0  0.376315"
      ]
     },
     "execution_count": 13,
     "metadata": {},
     "output_type": "execute_result"
    }
   ],
   "source": [
    "list_preds = []\n",
    "\n",
    "_, preds = val(mf, loader_val)\n",
    "for pred in preds:\n",
    "    for sites, species, occu, pre in zip(pred['sites'], pred['species'], pred['occurence'], pred['prediction']):\n",
    "        for i in range(NUM_SITES_PER_PACK):\n",
    "            for j in range(NUM_SPECIES_PER_PACK):\n",
    "                list_preds.append({\n",
    "                    'site': sites[i],\n",
    "                    'species': species[j],\n",
    "                    'occurence': occu[i, j],\n",
    "                    'pred': pre[i, j]\n",
    "                })\n",
    "\n",
    "df_pred = pd.DataFrame.from_records(list_preds)\n",
    "\n",
    "df_pred.head()"
   ]
  },
  {
   "cell_type": "code",
   "execution_count": 17,
   "metadata": {},
   "outputs": [
    {
     "name": "stdout",
     "output_type": "stream",
     "text": [
      "Expected Percentile Ranking : 0.374277\n",
      "TPR : 0.076841\n"
     ]
    }
   ],
   "source": [
    "print(f\"Expected Percentile Ranking : {evaluation.calc_expected_percentile_rank(df_pred):.6f}\")\n",
    "print(f\"TPR : {evaluation.calc_tpr(df_pred['pred']):.6f}\")"
   ]
  },
  {
   "cell_type": "markdown",
   "metadata": {},
   "source": [
    "# 6. Save embedding"
   ]
  },
  {
   "cell_type": "code",
   "execution_count": 15,
   "metadata": {},
   "outputs": [],
   "source": [
    "path_dir_emb = PATH_DIR_DATA_PROCESS / f\"mf_PROBABILITY_OUTPUT={PROBABILITY_OUTPUT}\"\n",
    "\n",
    "path_dir_emb.mkdir(exist_ok=True, parents=True)"
   ]
  },
  {
   "cell_type": "code",
   "execution_count": 16,
   "metadata": {},
   "outputs": [],
   "source": [
    "torch.save(mf.state_dict(), path_dir_emb / \"model.pt\")"
   ]
  }
 ],
 "metadata": {
  "kernelspec": {
   "display_name": "py",
   "language": "python",
   "name": "python3"
  },
  "language_info": {
   "codemirror_mode": {
    "name": "ipython",
    "version": 3
   },
   "file_extension": ".py",
   "mimetype": "text/x-python",
   "name": "python",
   "nbconvert_exporter": "python",
   "pygments_lexer": "ipython3",
   "version": "3.10.13"
  }
 },
 "nbformat": 4,
 "nbformat_minor": 2
}
