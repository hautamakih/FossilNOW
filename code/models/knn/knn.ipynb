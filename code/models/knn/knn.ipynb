{
 "cells": [
  {
   "cell_type": "code",
   "execution_count": 1,
   "metadata": {},
   "outputs": [
    {
     "name": "stdout",
     "output_type": "stream",
     "text": [
      "/Users/macos/Uni/1st_year/period_3/DSProj/code/models\n"
     ]
    }
   ],
   "source": [
    "%cd ../"
   ]
  },
  {
   "cell_type": "code",
   "execution_count": 7,
   "metadata": {},
   "outputs": [],
   "source": [
    "from pathlib import Path\n",
    "\n",
    "import matplotlib.pyplot as plt\n",
    "import numpy as np\n",
    "import pandas as pd\n",
    "import scipy\n",
    "import seaborn as sns\n",
    "\n",
    "import evaluation\n",
    "import utils"
   ]
  },
  {
   "cell_type": "code",
   "execution_count": 3,
   "metadata": {},
   "outputs": [],
   "source": [
    "plt.style.use('seaborn-v0_8')\n",
    "plt.rcParams.update({'font.size': 8})"
   ]
  },
  {
   "cell_type": "code",
   "execution_count": 8,
   "metadata": {},
   "outputs": [],
   "source": [
    "PATH_DIR_DATA_PROCESS = Path(\"data_processed\")"
   ]
  },
  {
   "cell_type": "markdown",
   "metadata": {},
   "source": [
    "## 0. Load data and encoding"
   ]
  },
  {
   "cell_type": "code",
   "execution_count": 4,
   "metadata": {},
   "outputs": [
    {
     "data": {
      "text/html": [
       "<div>\n",
       "<style scoped>\n",
       "    .dataframe tbody tr th:only-of-type {\n",
       "        vertical-align: middle;\n",
       "    }\n",
       "\n",
       "    .dataframe tbody tr th {\n",
       "        vertical-align: top;\n",
       "    }\n",
       "\n",
       "    .dataframe thead th {\n",
       "        text-align: right;\n",
       "    }\n",
       "</style>\n",
       "<table border=\"1\" class=\"dataframe\">\n",
       "  <thead>\n",
       "    <tr style=\"text-align: right;\">\n",
       "      <th></th>\n",
       "      <th>SITE_NAME</th>\n",
       "      <th>Equus</th>\n",
       "      <th>Coelodonta</th>\n",
       "      <th>Bos</th>\n",
       "      <th>Gazella</th>\n",
       "      <th>Ursus</th>\n",
       "      <th>Vulpes</th>\n",
       "      <th>Cervus</th>\n",
       "      <th>Canis</th>\n",
       "      <th>Sus</th>\n",
       "      <th>...</th>\n",
       "      <th>Total_Gen_Count</th>\n",
       "      <th>Large_GenCount</th>\n",
       "      <th>Small_GenCount</th>\n",
       "      <th>smallperlarge</th>\n",
       "      <th>smallprop</th>\n",
       "      <th>Herb_GenCount</th>\n",
       "      <th>Nonherb_GenCount</th>\n",
       "      <th>DietRatio</th>\n",
       "      <th>HerbProp</th>\n",
       "      <th>mid_age</th>\n",
       "    </tr>\n",
       "  </thead>\n",
       "  <tbody>\n",
       "    <tr>\n",
       "      <th>0</th>\n",
       "      <td>Aba Zawei</td>\n",
       "      <td>1</td>\n",
       "      <td>1</td>\n",
       "      <td>1</td>\n",
       "      <td>1</td>\n",
       "      <td>0</td>\n",
       "      <td>0</td>\n",
       "      <td>0</td>\n",
       "      <td>0</td>\n",
       "      <td>0</td>\n",
       "      <td>...</td>\n",
       "      <td>4</td>\n",
       "      <td>4</td>\n",
       "      <td>0</td>\n",
       "      <td>0.0</td>\n",
       "      <td>0.000000</td>\n",
       "      <td>4</td>\n",
       "      <td>0</td>\n",
       "      <td>NaN</td>\n",
       "      <td>1.000000</td>\n",
       "      <td>0.0265</td>\n",
       "    </tr>\n",
       "    <tr>\n",
       "      <th>1</th>\n",
       "      <td>Abric Romani</td>\n",
       "      <td>1</td>\n",
       "      <td>0</td>\n",
       "      <td>1</td>\n",
       "      <td>0</td>\n",
       "      <td>1</td>\n",
       "      <td>1</td>\n",
       "      <td>1</td>\n",
       "      <td>1</td>\n",
       "      <td>1</td>\n",
       "      <td>...</td>\n",
       "      <td>12</td>\n",
       "      <td>12</td>\n",
       "      <td>0</td>\n",
       "      <td>0.0</td>\n",
       "      <td>0.000000</td>\n",
       "      <td>6</td>\n",
       "      <td>5</td>\n",
       "      <td>1.2</td>\n",
       "      <td>0.500000</td>\n",
       "      <td>0.0550</td>\n",
       "    </tr>\n",
       "    <tr>\n",
       "      <th>2</th>\n",
       "      <td>Acheng_Jiaojie</td>\n",
       "      <td>0</td>\n",
       "      <td>0</td>\n",
       "      <td>0</td>\n",
       "      <td>0</td>\n",
       "      <td>0</td>\n",
       "      <td>0</td>\n",
       "      <td>1</td>\n",
       "      <td>0</td>\n",
       "      <td>0</td>\n",
       "      <td>...</td>\n",
       "      <td>7</td>\n",
       "      <td>5</td>\n",
       "      <td>2</td>\n",
       "      <td>0.4</td>\n",
       "      <td>0.285714</td>\n",
       "      <td>5</td>\n",
       "      <td>2</td>\n",
       "      <td>2.5</td>\n",
       "      <td>0.714286</td>\n",
       "      <td>0.2100</td>\n",
       "    </tr>\n",
       "    <tr>\n",
       "      <th>3</th>\n",
       "      <td>Adler cave</td>\n",
       "      <td>1</td>\n",
       "      <td>0</td>\n",
       "      <td>0</td>\n",
       "      <td>0</td>\n",
       "      <td>0</td>\n",
       "      <td>1</td>\n",
       "      <td>0</td>\n",
       "      <td>1</td>\n",
       "      <td>0</td>\n",
       "      <td>...</td>\n",
       "      <td>10</td>\n",
       "      <td>5</td>\n",
       "      <td>5</td>\n",
       "      <td>1.0</td>\n",
       "      <td>0.500000</td>\n",
       "      <td>6</td>\n",
       "      <td>4</td>\n",
       "      <td>1.5</td>\n",
       "      <td>0.600000</td>\n",
       "      <td>0.0275</td>\n",
       "    </tr>\n",
       "    <tr>\n",
       "      <th>4</th>\n",
       "      <td>Adyrgan</td>\n",
       "      <td>1</td>\n",
       "      <td>0</td>\n",
       "      <td>0</td>\n",
       "      <td>1</td>\n",
       "      <td>0</td>\n",
       "      <td>0</td>\n",
       "      <td>0</td>\n",
       "      <td>0</td>\n",
       "      <td>0</td>\n",
       "      <td>...</td>\n",
       "      <td>11</td>\n",
       "      <td>5</td>\n",
       "      <td>6</td>\n",
       "      <td>1.2</td>\n",
       "      <td>0.545455</td>\n",
       "      <td>11</td>\n",
       "      <td>0</td>\n",
       "      <td>NaN</td>\n",
       "      <td>1.000000</td>\n",
       "      <td>2.2000</td>\n",
       "    </tr>\n",
       "  </tbody>\n",
       "</table>\n",
       "<p>5 rows × 474 columns</p>\n",
       "</div>"
      ],
      "text/plain": [
       "        SITE_NAME  Equus  Coelodonta  Bos  Gazella  Ursus  Vulpes  Cervus  \\\n",
       "0       Aba Zawei      1           1    1        1      0       0       0   \n",
       "1    Abric Romani      1           0    1        0      1       1       1   \n",
       "2  Acheng_Jiaojie      0           0    0        0      0       0       1   \n",
       "3      Adler cave      1           0    0        0      0       1       0   \n",
       "4         Adyrgan      1           0    0        1      0       0       0   \n",
       "\n",
       "   Canis  Sus  ...  Total_Gen_Count  Large_GenCount  Small_GenCount  \\\n",
       "0      0    0  ...                4               4               0   \n",
       "1      1    1  ...               12              12               0   \n",
       "2      0    0  ...                7               5               2   \n",
       "3      1    0  ...               10               5               5   \n",
       "4      0    0  ...               11               5               6   \n",
       "\n",
       "   smallperlarge  smallprop  Herb_GenCount  Nonherb_GenCount  DietRatio  \\\n",
       "0            0.0   0.000000              4                 0        NaN   \n",
       "1            0.0   0.000000              6                 5        1.2   \n",
       "2            0.4   0.285714              5                 2        2.5   \n",
       "3            1.0   0.500000              6                 4        1.5   \n",
       "4            1.2   0.545455             11                 0        NaN   \n",
       "\n",
       "   HerbProp  mid_age  \n",
       "0  1.000000   0.0265  \n",
       "1  0.500000   0.0550  \n",
       "2  0.714286   0.2100  \n",
       "3  0.600000   0.0275  \n",
       "4  1.000000   2.2000  \n",
       "\n",
       "[5 rows x 474 columns]"
      ]
     },
     "execution_count": 4,
     "metadata": {},
     "output_type": "execute_result"
    }
   ],
   "source": [
    "path = \"/Users/macos/Uni/1st_year/period_3/DSProj/data/AllSites_SiteOccurrences_AllGenera_26.1.24.csv\"\n",
    "\n",
    "df = pd.read_csv(path)\n",
    "\n",
    "df.head()"
   ]
  },
  {
   "cell_type": "code",
   "execution_count": 5,
   "metadata": {},
   "outputs": [],
   "source": [
    "path_embd_site = \"data_processed/embedding_mf/embd_site_mf_regression.npy\"\n",
    "path_embd_species = \"data_processed/embedding_mf/embd_species_mf_regression.npy\"\n",
    "\n",
    "emb_site = np.load(path_embd_site)\n",
    "emb_species = np.load(path_embd_species)"
   ]
  },
  {
   "cell_type": "code",
   "execution_count": 9,
   "metadata": {},
   "outputs": [],
   "source": [
    "path_dir_encode = PATH_DIR_DATA_PROCESS / \"encoder\"\n",
    "\n",
    "path_enc_genera = path_dir_encode / \"ordinal_enc_genera.json\"\n",
    "path_enc_site = path_dir_encode / \"ordinal_enc_site.json\"\n",
    "\n",
    "enc_genera = utils.CategoryDict.from_file(path_enc_genera)\n",
    "enc_site = utils.CategoryDict.from_file(path_enc_site)"
   ]
  },
  {
   "cell_type": "code",
   "execution_count": 14,
   "metadata": {},
   "outputs": [
    {
     "data": {
      "text/plain": [
       "array([ 0.48133853, -0.885859  ,  0.5315192 , -1.2709452 ,  1.2409518 ,\n",
       "       -0.2803186 , -0.48638493,  0.37118807, -1.0038189 , -0.19006532,\n",
       "       -0.7072423 , -0.49020004,  1.2547532 ,  0.30509952,  0.96412003,\n",
       "        0.08104583, -0.77335626,  1.1636934 , -0.2723879 , -0.7135465 ,\n",
       "        1.4242524 , -1.9960505 , -0.8124531 ,  1.0922112 ,  0.52428555,\n",
       "        1.040531  , -0.39423501,  0.00695098,  0.6585643 , -0.15677549,\n",
       "       -1.7565837 ,  0.4915725 ,  0.756618  , -0.4780721 , -0.6011286 ,\n",
       "       -1.3769549 , -0.14506647,  0.60927707,  0.31258953, -0.34109437,\n",
       "        0.2901921 ,  1.6217002 ,  0.26392817,  1.0714238 ,  0.42034328,\n",
       "        0.94025475,  0.04049683,  0.30804008, -1.7388293 , -0.9920322 ,\n",
       "        1.6728448 ,  1.1007311 ,  0.28074533,  0.8518006 , -0.93585443,\n",
       "       -0.9983699 , -0.25397107,  0.23555003,  2.185074  ,  2.1986005 ,\n",
       "        0.08198294,  0.22334267,  0.27503908, -1.5106016 ], dtype=float32)"
      ]
     },
     "execution_count": 14,
     "metadata": {},
     "output_type": "execute_result"
    }
   ],
   "source": [
    "dict_species_embd = {enc_genera.ids2names(idx)[0]: emb for idx, emb in enumerate(emb_species)}\n",
    "\n",
    "dict_species_embd['Equus']"
   ]
  },
  {
   "cell_type": "code",
   "execution_count": 16,
   "metadata": {},
   "outputs": [
    {
     "data": {
      "text/plain": [
       "{'occurence': array([[0., 0., 0., 0.],\n",
       "        [0., 0., 0., 0.]], dtype=float32),\n",
       " 'sites': [198, 199],\n",
       " 'genera': [116, 117, 118, 119]}"
      ]
     },
     "execution_count": 16,
     "metadata": {},
     "output_type": "execute_result"
    }
   ],
   "source": [
    "data_val = np.load(PATH_DIR_DATA_PROCESS / \"trainval/data_val.npy\", allow_pickle=True)\n",
    "data_val[0]"
   ]
  },
  {
   "cell_type": "code",
   "execution_count": 17,
   "metadata": {},
   "outputs": [],
   "source": [
    "list_val = []\n",
    "\n",
    "for x in data_val:\n",
    "    for i_site, site in enumerate(x['sites']):\n",
    "        for i_gen, genera in enumerate(x['genera']):\n",
    "            if x['occurence'][i_site, i_gen] == 1:\n",
    "                list_val.append({'site': site, 'genera': genera})"
   ]
  },
  {
   "cell_type": "code",
   "execution_count": 18,
   "metadata": {},
   "outputs": [
    {
     "data": {
      "text/html": [
       "<div>\n",
       "<style scoped>\n",
       "    .dataframe tbody tr th:only-of-type {\n",
       "        vertical-align: middle;\n",
       "    }\n",
       "\n",
       "    .dataframe tbody tr th {\n",
       "        vertical-align: top;\n",
       "    }\n",
       "\n",
       "    .dataframe thead th {\n",
       "        text-align: right;\n",
       "    }\n",
       "</style>\n",
       "<table border=\"1\" class=\"dataframe\">\n",
       "  <thead>\n",
       "    <tr style=\"text-align: right;\">\n",
       "      <th></th>\n",
       "      <th>site</th>\n",
       "      <th>genera</th>\n",
       "    </tr>\n",
       "  </thead>\n",
       "  <tbody>\n",
       "    <tr>\n",
       "      <th>0</th>\n",
       "      <td>707</td>\n",
       "      <td>96</td>\n",
       "    </tr>\n",
       "    <tr>\n",
       "      <th>1</th>\n",
       "      <td>200</td>\n",
       "      <td>148</td>\n",
       "    </tr>\n",
       "    <tr>\n",
       "      <th>2</th>\n",
       "      <td>200</td>\n",
       "      <td>150</td>\n",
       "    </tr>\n",
       "    <tr>\n",
       "      <th>3</th>\n",
       "      <td>201</td>\n",
       "      <td>148</td>\n",
       "    </tr>\n",
       "    <tr>\n",
       "      <th>4</th>\n",
       "      <td>201</td>\n",
       "      <td>150</td>\n",
       "    </tr>\n",
       "  </tbody>\n",
       "</table>\n",
       "</div>"
      ],
      "text/plain": [
       "   site  genera\n",
       "0   707      96\n",
       "1   200     148\n",
       "2   200     150\n",
       "3   201     148\n",
       "4   201     150"
      ]
     },
     "execution_count": 18,
     "metadata": {},
     "output_type": "execute_result"
    }
   ],
   "source": [
    "df_val = pd.DataFrame.from_records(list_val)\n",
    "\n",
    "df_val.head()"
   ]
  },
  {
   "cell_type": "code",
   "execution_count": 19,
   "metadata": {},
   "outputs": [
    {
     "data": {
      "text/html": [
       "<div>\n",
       "<style scoped>\n",
       "    .dataframe tbody tr th:only-of-type {\n",
       "        vertical-align: middle;\n",
       "    }\n",
       "\n",
       "    .dataframe tbody tr th {\n",
       "        vertical-align: top;\n",
       "    }\n",
       "\n",
       "    .dataframe thead th {\n",
       "        text-align: right;\n",
       "    }\n",
       "</style>\n",
       "<table border=\"1\" class=\"dataframe\">\n",
       "  <thead>\n",
       "    <tr style=\"text-align: right;\">\n",
       "      <th></th>\n",
       "      <th>site</th>\n",
       "      <th>genera</th>\n",
       "      <th>genera_name</th>\n",
       "    </tr>\n",
       "  </thead>\n",
       "  <tbody>\n",
       "    <tr>\n",
       "      <th>0</th>\n",
       "      <td>707</td>\n",
       "      <td>96</td>\n",
       "      <td>Pseudaxis</td>\n",
       "    </tr>\n",
       "    <tr>\n",
       "      <th>1</th>\n",
       "      <td>200</td>\n",
       "      <td>148</td>\n",
       "      <td>Bubalus</td>\n",
       "    </tr>\n",
       "    <tr>\n",
       "      <th>2</th>\n",
       "      <td>200</td>\n",
       "      <td>150</td>\n",
       "      <td>Rhizomys</td>\n",
       "    </tr>\n",
       "    <tr>\n",
       "      <th>3</th>\n",
       "      <td>201</td>\n",
       "      <td>148</td>\n",
       "      <td>Bubalus</td>\n",
       "    </tr>\n",
       "    <tr>\n",
       "      <th>4</th>\n",
       "      <td>201</td>\n",
       "      <td>150</td>\n",
       "      <td>Rhizomys</td>\n",
       "    </tr>\n",
       "  </tbody>\n",
       "</table>\n",
       "</div>"
      ],
      "text/plain": [
       "   site  genera genera_name\n",
       "0   707      96   Pseudaxis\n",
       "1   200     148     Bubalus\n",
       "2   200     150    Rhizomys\n",
       "3   201     148     Bubalus\n",
       "4   201     150    Rhizomys"
      ]
     },
     "execution_count": 19,
     "metadata": {},
     "output_type": "execute_result"
    }
   ],
   "source": [
    "df_val.loc[:, 'genera_name'] = enc_genera.ids2names(df_val['genera'])\n",
    "\n",
    "df_val.head()"
   ]
  },
  {
   "cell_type": "markdown",
   "metadata": {},
   "source": [
    "## 2. Start validating"
   ]
  },
  {
   "cell_type": "code",
   "execution_count": 20,
   "metadata": {},
   "outputs": [],
   "source": [
    "emb_species_normed = emb_species / np.clip(np.linalg.norm(emb_species, axis=1)[:, None], a_max=10, a_min=1e-6)"
   ]
  },
  {
   "cell_type": "code",
   "execution_count": 21,
   "metadata": {},
   "outputs": [],
   "source": [
    "N = 15\n",
    "N_SITES = 10"
   ]
  },
  {
   "cell_type": "code",
   "execution_count": 25,
   "metadata": {},
   "outputs": [],
   "source": [
    "results = []\n",
    "\n",
    "for species in df_val['genera_name'].unique():\n",
    "    emb = dict_species_embd[species]\n",
    "\n",
    "    # Calculate cosine sim\n",
    "    emb = emb / np.clip(np.linalg.norm(emb), a_min=1e-6, a_max=10)\n",
    "    sim = emb_species_normed @ emb[:, None]\n",
    "\n",
    "    # Get top N similar species\n",
    "    idx_top = np.argpartition(sim.squeeze(), -N)[-N:]\n",
    "    species_sim = enc_genera.ids2names(idx_top)\n",
    "\n",
    "    # Sample several sites to calculate co-occurence\n",
    "    sites_available = df[df[species] == 1][['SITE_NAME', species]]['SITE_NAME']\n",
    "    if len(sites_available) <= N_SITES:\n",
    "        sites_sample = sites_available\n",
    "    else:\n",
    "        sites_sample = sites_available.sample(N_SITES, replace=False)\n",
    "    results.extend(df[df['SITE_NAME'].isin(sites_sample)][species_sim].mean(axis=1).tolist())\n"
   ]
  },
  {
   "cell_type": "code",
   "execution_count": 27,
   "metadata": {},
   "outputs": [
    {
     "name": "stdout",
     "output_type": "stream",
     "text": [
      "MSE : 0.787281\n",
      "RMSE: 0.887289\n",
      "TPR : 0.000000\n"
     ]
    }
   ],
   "source": [
    "print(f\"MSE : {evaluation.calc_mse(results):.6f}\")\n",
    "print(f\"RMSE: {evaluation.calc_rmse(results):.6f}\")\n",
    "print(f\"TPR : {evaluation.calc_tpr(results):.6f}\")"
   ]
  }
 ],
 "metadata": {
  "kernelspec": {
   "display_name": "py",
   "language": "python",
   "name": "python3"
  },
  "language_info": {
   "codemirror_mode": {
    "name": "ipython",
    "version": 3
   },
   "file_extension": ".py",
   "mimetype": "text/x-python",
   "name": "python",
   "nbconvert_exporter": "python",
   "pygments_lexer": "ipython3",
   "version": "3.10.13"
  }
 },
 "nbformat": 4,
 "nbformat_minor": 2
}
