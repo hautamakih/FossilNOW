{
 "cells": [
  {
   "cell_type": "code",
   "execution_count": 1,
   "metadata": {},
   "outputs": [
    {
     "name": "stdout",
     "output_type": "stream",
     "text": [
      "/Users/macos/Uni/1st_year/period_3/DSProj\n"
     ]
    }
   ],
   "source": [
    "%cd ../../../"
   ]
  },
  {
   "cell_type": "code",
   "execution_count": 2,
   "metadata": {},
   "outputs": [],
   "source": [
    "import matplotlib.pyplot as plt\n",
    "import numpy as np\n",
    "import pandas as pd\n",
    "import scipy\n",
    "import seaborn as sns\n",
    "from sklearn.metrics import mean_squared_error\n",
    "from tqdm.notebook import tqdm"
   ]
  },
  {
   "cell_type": "code",
   "execution_count": 3,
   "metadata": {},
   "outputs": [],
   "source": [
    "plt.style.use('seaborn-v0_8')\n",
    "plt.rcParams.update({'font.size': 8})"
   ]
  },
  {
   "cell_type": "markdown",
   "metadata": {},
   "source": [
    "## 0. Load data"
   ]
  },
  {
   "cell_type": "code",
   "execution_count": 4,
   "metadata": {},
   "outputs": [
    {
     "data": {
      "text/html": [
       "<div>\n",
       "<style scoped>\n",
       "    .dataframe tbody tr th:only-of-type {\n",
       "        vertical-align: middle;\n",
       "    }\n",
       "\n",
       "    .dataframe tbody tr th {\n",
       "        vertical-align: top;\n",
       "    }\n",
       "\n",
       "    .dataframe thead th {\n",
       "        text-align: right;\n",
       "    }\n",
       "</style>\n",
       "<table border=\"1\" class=\"dataframe\">\n",
       "  <thead>\n",
       "    <tr style=\"text-align: right;\">\n",
       "      <th></th>\n",
       "      <th>SITE_NAME</th>\n",
       "      <th>Equus</th>\n",
       "      <th>Coelodonta</th>\n",
       "      <th>Bos</th>\n",
       "      <th>Gazella</th>\n",
       "      <th>Ursus</th>\n",
       "      <th>Vulpes</th>\n",
       "      <th>Cervus</th>\n",
       "      <th>Canis</th>\n",
       "      <th>Sus</th>\n",
       "      <th>...</th>\n",
       "      <th>Total_Gen_Count</th>\n",
       "      <th>Large_GenCount</th>\n",
       "      <th>Small_GenCount</th>\n",
       "      <th>smallperlarge</th>\n",
       "      <th>smallprop</th>\n",
       "      <th>Herb_GenCount</th>\n",
       "      <th>Nonherb_GenCount</th>\n",
       "      <th>DietRatio</th>\n",
       "      <th>HerbProp</th>\n",
       "      <th>mid_age</th>\n",
       "    </tr>\n",
       "  </thead>\n",
       "  <tbody>\n",
       "    <tr>\n",
       "      <th>0</th>\n",
       "      <td>Aba Zawei</td>\n",
       "      <td>1</td>\n",
       "      <td>1</td>\n",
       "      <td>1</td>\n",
       "      <td>1</td>\n",
       "      <td>0</td>\n",
       "      <td>0</td>\n",
       "      <td>0</td>\n",
       "      <td>0</td>\n",
       "      <td>0</td>\n",
       "      <td>...</td>\n",
       "      <td>4</td>\n",
       "      <td>4</td>\n",
       "      <td>0</td>\n",
       "      <td>0.0</td>\n",
       "      <td>0.000000</td>\n",
       "      <td>4</td>\n",
       "      <td>0</td>\n",
       "      <td>NaN</td>\n",
       "      <td>1.000000</td>\n",
       "      <td>0.0265</td>\n",
       "    </tr>\n",
       "    <tr>\n",
       "      <th>1</th>\n",
       "      <td>Abric Romani</td>\n",
       "      <td>1</td>\n",
       "      <td>0</td>\n",
       "      <td>1</td>\n",
       "      <td>0</td>\n",
       "      <td>1</td>\n",
       "      <td>1</td>\n",
       "      <td>1</td>\n",
       "      <td>1</td>\n",
       "      <td>1</td>\n",
       "      <td>...</td>\n",
       "      <td>12</td>\n",
       "      <td>12</td>\n",
       "      <td>0</td>\n",
       "      <td>0.0</td>\n",
       "      <td>0.000000</td>\n",
       "      <td>6</td>\n",
       "      <td>5</td>\n",
       "      <td>1.2</td>\n",
       "      <td>0.500000</td>\n",
       "      <td>0.0550</td>\n",
       "    </tr>\n",
       "    <tr>\n",
       "      <th>2</th>\n",
       "      <td>Acheng_Jiaojie</td>\n",
       "      <td>0</td>\n",
       "      <td>0</td>\n",
       "      <td>0</td>\n",
       "      <td>0</td>\n",
       "      <td>0</td>\n",
       "      <td>0</td>\n",
       "      <td>1</td>\n",
       "      <td>0</td>\n",
       "      <td>0</td>\n",
       "      <td>...</td>\n",
       "      <td>7</td>\n",
       "      <td>5</td>\n",
       "      <td>2</td>\n",
       "      <td>0.4</td>\n",
       "      <td>0.285714</td>\n",
       "      <td>5</td>\n",
       "      <td>2</td>\n",
       "      <td>2.5</td>\n",
       "      <td>0.714286</td>\n",
       "      <td>0.2100</td>\n",
       "    </tr>\n",
       "    <tr>\n",
       "      <th>3</th>\n",
       "      <td>Adler cave</td>\n",
       "      <td>1</td>\n",
       "      <td>0</td>\n",
       "      <td>0</td>\n",
       "      <td>0</td>\n",
       "      <td>0</td>\n",
       "      <td>1</td>\n",
       "      <td>0</td>\n",
       "      <td>1</td>\n",
       "      <td>0</td>\n",
       "      <td>...</td>\n",
       "      <td>10</td>\n",
       "      <td>5</td>\n",
       "      <td>5</td>\n",
       "      <td>1.0</td>\n",
       "      <td>0.500000</td>\n",
       "      <td>6</td>\n",
       "      <td>4</td>\n",
       "      <td>1.5</td>\n",
       "      <td>0.600000</td>\n",
       "      <td>0.0275</td>\n",
       "    </tr>\n",
       "    <tr>\n",
       "      <th>4</th>\n",
       "      <td>Adyrgan</td>\n",
       "      <td>1</td>\n",
       "      <td>0</td>\n",
       "      <td>0</td>\n",
       "      <td>1</td>\n",
       "      <td>0</td>\n",
       "      <td>0</td>\n",
       "      <td>0</td>\n",
       "      <td>0</td>\n",
       "      <td>0</td>\n",
       "      <td>...</td>\n",
       "      <td>11</td>\n",
       "      <td>5</td>\n",
       "      <td>6</td>\n",
       "      <td>1.2</td>\n",
       "      <td>0.545455</td>\n",
       "      <td>11</td>\n",
       "      <td>0</td>\n",
       "      <td>NaN</td>\n",
       "      <td>1.000000</td>\n",
       "      <td>2.2000</td>\n",
       "    </tr>\n",
       "  </tbody>\n",
       "</table>\n",
       "<p>5 rows × 474 columns</p>\n",
       "</div>"
      ],
      "text/plain": [
       "        SITE_NAME  Equus  Coelodonta  Bos  Gazella  Ursus  Vulpes  Cervus  \\\n",
       "0       Aba Zawei      1           1    1        1      0       0       0   \n",
       "1    Abric Romani      1           0    1        0      1       1       1   \n",
       "2  Acheng_Jiaojie      0           0    0        0      0       0       1   \n",
       "3      Adler cave      1           0    0        0      0       1       0   \n",
       "4         Adyrgan      1           0    0        1      0       0       0   \n",
       "\n",
       "   Canis  Sus  ...  Total_Gen_Count  Large_GenCount  Small_GenCount  \\\n",
       "0      0    0  ...                4               4               0   \n",
       "1      1    1  ...               12              12               0   \n",
       "2      0    0  ...                7               5               2   \n",
       "3      1    0  ...               10               5               5   \n",
       "4      0    0  ...               11               5               6   \n",
       "\n",
       "   smallperlarge  smallprop  Herb_GenCount  Nonherb_GenCount  DietRatio  \\\n",
       "0            0.0   0.000000              4                 0        NaN   \n",
       "1            0.0   0.000000              6                 5        1.2   \n",
       "2            0.4   0.285714              5                 2        2.5   \n",
       "3            1.0   0.500000              6                 4        1.5   \n",
       "4            1.2   0.545455             11                 0        NaN   \n",
       "\n",
       "   HerbProp  mid_age  \n",
       "0  1.000000   0.0265  \n",
       "1  0.500000   0.0550  \n",
       "2  0.714286   0.2100  \n",
       "3  0.600000   0.0275  \n",
       "4  1.000000   2.2000  \n",
       "\n",
       "[5 rows x 474 columns]"
      ]
     },
     "execution_count": 4,
     "metadata": {},
     "output_type": "execute_result"
    }
   ],
   "source": [
    "path = \"/Users/macos/Uni/1st_year/period_3/DSProj/data/AllSites_SiteOccurrences_AllGenera_26.1.24.csv\"\n",
    "\n",
    "df = pd.read_csv(path)\n",
    "\n",
    "df.head()"
   ]
  },
  {
   "cell_type": "code",
   "execution_count": 5,
   "metadata": {},
   "outputs": [],
   "source": [
    "path_embd_site = \"code/visualization/embd_site_mf.np.npy\"\n",
    "path_embd_species = \"code/visualization/embd_species_mf.np.npy\"\n",
    "path_enc_site = \"code/visualization/ordinal_enc_site_mf.np.npy\"\n",
    "path_enc_species = \"code/visualization/ordinal_enc_species_mf.np.npy\"\n",
    "\n",
    "emb_site = np.load(path_embd_site)\n",
    "emb_species = np.load(path_embd_species)\n",
    "enc_site = np.load(path_enc_site, allow_pickle=True)\n",
    "enc_species = np.load(path_enc_species, allow_pickle=True)"
   ]
  },
  {
   "cell_type": "code",
   "execution_count": 6,
   "metadata": {},
   "outputs": [],
   "source": [
    "enc_species = enc_species.squeeze()\n",
    "enc_site = enc_site.squeeze()"
   ]
  },
  {
   "cell_type": "code",
   "execution_count": 7,
   "metadata": {},
   "outputs": [
    {
     "data": {
      "text/plain": [
       "array([-0.6024582 , -0.17209442, -0.88206327,  0.2515482 , -0.9718773 ,\n",
       "        0.942542  , -0.47676274, -1.043077  ,  0.21375427,  0.66247857,\n",
       "       -0.39991286, -0.20432994,  0.4799328 , -0.88079673,  0.529288  ,\n",
       "        0.403689  ,  0.5744591 , -1.3953732 ,  2.2029588 ,  1.4625548 ,\n",
       "       -0.5329598 ,  0.38212925,  0.51151663,  0.67590034,  0.9829826 ,\n",
       "       -0.523997  , -0.5824796 ,  0.06244349, -0.5188971 ,  0.32071757,\n",
       "       -0.9634313 , -0.08950552, -0.160659  , -0.30243152,  0.29806143,\n",
       "       -0.38844678,  0.00229704,  1.2085063 , -0.37325615, -0.5277497 ,\n",
       "        1.7293639 , -0.27959004,  0.35775962, -0.3196511 ,  0.55379546,\n",
       "       -1.3178645 , -0.7488011 , -0.4749589 ,  0.79523826,  0.9699398 ,\n",
       "        0.83651245, -0.3160859 , -1.301971  , -0.92213386,  0.463068  ,\n",
       "       -0.24124621,  0.59597677,  1.3608215 ,  1.0651474 ,  0.55439454,\n",
       "        0.22865285,  0.43462545,  0.3180721 , -0.84774804], dtype=float32)"
      ]
     },
     "execution_count": 7,
     "metadata": {},
     "output_type": "execute_result"
    }
   ],
   "source": [
    "specidict_species_embd = {\n",
    "    species: emb for species, emb in zip(enc_species, emb_species)\n",
    "}\n",
    "\n",
    "specidict_species_embd['Equus']"
   ]
  },
  {
   "cell_type": "markdown",
   "metadata": {},
   "source": [
    "## 2. Start validating"
   ]
  },
  {
   "cell_type": "code",
   "execution_count": 8,
   "metadata": {},
   "outputs": [],
   "source": [
    "emb_species_normed = emb_species / np.clip(np.linalg.norm(emb_species, axis=1)[:, None], a_max=10, a_min=1e-6)"
   ]
  },
  {
   "cell_type": "code",
   "execution_count": 9,
   "metadata": {},
   "outputs": [],
   "source": [
    "N = 15\n",
    "N_SITES = 10"
   ]
  },
  {
   "cell_type": "code",
   "execution_count": 13,
   "metadata": {},
   "outputs": [
    {
     "data": {
      "application/vnd.jupyter.widget-view+json": {
       "model_id": "324afca6047046639884e2bc25157739",
       "version_major": 2,
       "version_minor": 0
      },
      "text/plain": [
       "  0%|          | 0/10 [00:00<?, ?it/s]"
      ]
     },
     "metadata": {},
     "output_type": "display_data"
    }
   ],
   "source": [
    "results = []\n",
    "\n",
    "for species in tqdm(np.random.choice(enc_species.squeeze(), 10, replace=False)):\n",
    "    emb = specidict_species_embd[species]\n",
    "\n",
    "    # Calculate cosine sim\n",
    "    emb = emb / np.clip(np.linalg.norm(emb), a_min=1e-6, a_max=10)\n",
    "    sim = emb_species_normed @ emb[:, None]\n",
    "\n",
    "    # Get top N similar species\n",
    "    idx_top = np.argpartition(sim.squeeze(), -N)[-N:]\n",
    "    species_sim = enc_species[idx_top]\n",
    "\n",
    "    # Sample several sites to calculate co-occurence\n",
    "    sites_available = df[df[species] == 1][['SITE_NAME', species]]['SITE_NAME']\n",
    "    if len(sites_available) <= N_SITES:\n",
    "        sites_sample = sites_available\n",
    "    else:\n",
    "        sites_sample = sites_available.sample(N_SITES, replace=False)\n",
    "    results.extend(df[df['SITE_NAME'].isin(sites_sample)][species_sim].mean(axis=1).tolist())\n"
   ]
  },
  {
   "cell_type": "code",
   "execution_count": 21,
   "metadata": {},
   "outputs": [
    {
     "data": {
      "text/plain": [
       "0.7911112"
      ]
     },
     "execution_count": 21,
     "metadata": {},
     "output_type": "execute_result"
    }
   ],
   "source": [
    "mse_knn = np.square(1 - np.array(results, dtype=np.float32)).mean()\n",
    "\n",
    "mse_knn"
   ]
  },
  {
   "cell_type": "code",
   "execution_count": 28,
   "metadata": {},
   "outputs": [
    {
     "data": {
      "text/plain": [
       "<Axes: xlabel='mse', ylabel='model'>"
      ]
     },
     "execution_count": 28,
     "metadata": {},
     "output_type": "execute_result"
    },
    {
     "data": {
      "image/png": "[encoded data removed]",
      "text/plain": [
       "<Figure size 500x500 with 1 Axes>"
      ]
     },
     "metadata": {},
     "output_type": "display_data"
    }
   ],
   "source": [
    "fig = plt.figure(figsize=(5, 5))\n",
    "ax = fig.add_subplot(111)\n",
    "\n",
    "df_mse = pd.DataFrame({'model': ['MatrixFactorization', 'KNN'], 'mse': [36.58792802025971, mse_knn * 16]})\n",
    "sns.barplot(df_mse, y='model', x='mse', ax=ax)"
   ]
  }
 ],
 "metadata": {
  "kernelspec": {
   "display_name": "py",
   "language": "python",
   "name": "python3"
  },
  "language_info": {
   "codemirror_mode": {
    "name": "ipython",
    "version": 3
   },
   "file_extension": ".py",
   "mimetype": "text/x-python",
   "name": "python",
   "nbconvert_exporter": "python",
   "pygments_lexer": "ipython3",
   "version": "3.10.13"
  }
 },
 "nbformat": 4,
 "nbformat_minor": 2
}
