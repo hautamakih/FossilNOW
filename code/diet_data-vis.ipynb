{
 "cells": [
  {
   "cell_type": "markdown",
   "metadata": {},
   "source": [
    "## Check dentaltraits and bodymass-diet data:\n",
    "\n",
    "    Dental recods: \n",
    "precentage of plant diet and veretebrate diet\n",
    "mass\n",
    "\n",
    "    Bodymass-diet\n",
    "mass, size: large/small, diet:(non-)herbivore"
   ]
  },
  {
   "cell_type": "code",
   "execution_count": 1,
   "metadata": {},
   "outputs": [],
   "source": [
    "import pandas as pd\n",
    "import matplotlib.pyplot as plt\n",
    "import numpy as np"
   ]
  },
  {
   "cell_type": "code",
   "execution_count": 2,
   "metadata": {},
   "outputs": [],
   "source": [
    "dent_genus = pd.read_csv(\"DentalTraits_Genus_PPPA.csv\", sep=\",\")\n",
    "dent_species = pd.read_csv(\"DentalTraits_Species_PPPA.csv\", sep=\",\", encoding='unicode_escape')\n",
    "mass_diet = pd.read_csv(\"FossilGenera_MammalMassDiet_Jan24.csv\", sep=\",\")\n"
   ]
  },
  {
   "cell_type": "code",
   "execution_count": 3,
   "metadata": {},
   "outputs": [
    {
     "data": {
      "text/html": [
       "<div>\n",
       "<style scoped>\n",
       "    .dataframe tbody tr th:only-of-type {\n",
       "        vertical-align: middle;\n",
       "    }\n",
       "\n",
       "    .dataframe tbody tr th {\n",
       "        vertical-align: top;\n",
       "    }\n",
       "\n",
       "    .dataframe thead th {\n",
       "        text-align: right;\n",
       "    }\n",
       "</style>\n",
       "<table border=\"1\" class=\"dataframe\">\n",
       "  <thead>\n",
       "    <tr style=\"text-align: right;\">\n",
       "      <th></th>\n",
       "      <th>Genus</th>\n",
       "      <th>n</th>\n",
       "      <th>Mass.g_Mean</th>\n",
       "      <th>Diet.Plant_Mean</th>\n",
       "      <th>HYP_Mean</th>\n",
       "      <th>LOP_Mean</th>\n",
       "      <th>FCT_AL_Mean</th>\n",
       "      <th>FCT_OL_Mean</th>\n",
       "      <th>FCT_SF_Mean</th>\n",
       "      <th>BUN_Mean</th>\n",
       "      <th>...</th>\n",
       "      <th>HYP_Mode</th>\n",
       "      <th>LOP_Mode</th>\n",
       "      <th>FCT_AL_Mode</th>\n",
       "      <th>FCT_OL_Mode</th>\n",
       "      <th>FCT_SF_Mode</th>\n",
       "      <th>BUN_Mode</th>\n",
       "      <th>Order</th>\n",
       "      <th>ConsInGenhyp</th>\n",
       "      <th>ConsInGen_bun</th>\n",
       "      <th>Unnamed: 21</th>\n",
       "    </tr>\n",
       "  </thead>\n",
       "  <tbody>\n",
       "    <tr>\n",
       "      <th>0</th>\n",
       "      <td>Addax</td>\n",
       "      <td>1.0</td>\n",
       "      <td>70000.300000</td>\n",
       "      <td>100.0</td>\n",
       "      <td>3.0</td>\n",
       "      <td>2.0</td>\n",
       "      <td>0.0</td>\n",
       "      <td>1.0</td>\n",
       "      <td>1.0</td>\n",
       "      <td>0.0</td>\n",
       "      <td>...</td>\n",
       "      <td>3</td>\n",
       "      <td>2</td>\n",
       "      <td>0</td>\n",
       "      <td>1</td>\n",
       "      <td>1.0</td>\n",
       "      <td>0</td>\n",
       "      <td>Cetartiodactyla</td>\n",
       "      <td>True</td>\n",
       "      <td>True</td>\n",
       "      <td>NaN</td>\n",
       "    </tr>\n",
       "    <tr>\n",
       "      <th>1</th>\n",
       "      <td>Aepyceros</td>\n",
       "      <td>1.0</td>\n",
       "      <td>52500.100000</td>\n",
       "      <td>100.0</td>\n",
       "      <td>3.0</td>\n",
       "      <td>2.0</td>\n",
       "      <td>0.0</td>\n",
       "      <td>1.0</td>\n",
       "      <td>0.0</td>\n",
       "      <td>0.0</td>\n",
       "      <td>...</td>\n",
       "      <td>3</td>\n",
       "      <td>2</td>\n",
       "      <td>0</td>\n",
       "      <td>1</td>\n",
       "      <td>0.0</td>\n",
       "      <td>0</td>\n",
       "      <td>Cetartiodactyla</td>\n",
       "      <td>True</td>\n",
       "      <td>True</td>\n",
       "      <td>NaN</td>\n",
       "    </tr>\n",
       "    <tr>\n",
       "      <th>2</th>\n",
       "      <td>Alcelaphus</td>\n",
       "      <td>1.0</td>\n",
       "      <td>171001.500000</td>\n",
       "      <td>100.0</td>\n",
       "      <td>3.0</td>\n",
       "      <td>2.0</td>\n",
       "      <td>0.0</td>\n",
       "      <td>1.0</td>\n",
       "      <td>0.0</td>\n",
       "      <td>0.0</td>\n",
       "      <td>...</td>\n",
       "      <td>3</td>\n",
       "      <td>2</td>\n",
       "      <td>0</td>\n",
       "      <td>1</td>\n",
       "      <td>0.0</td>\n",
       "      <td>0</td>\n",
       "      <td>Cetartiodactyla</td>\n",
       "      <td>True</td>\n",
       "      <td>True</td>\n",
       "      <td>NaN</td>\n",
       "    </tr>\n",
       "    <tr>\n",
       "      <th>3</th>\n",
       "      <td>Alces</td>\n",
       "      <td>1.0</td>\n",
       "      <td>356998.000000</td>\n",
       "      <td>100.0</td>\n",
       "      <td>1.0</td>\n",
       "      <td>2.0</td>\n",
       "      <td>1.0</td>\n",
       "      <td>1.0</td>\n",
       "      <td>0.0</td>\n",
       "      <td>0.0</td>\n",
       "      <td>...</td>\n",
       "      <td>1</td>\n",
       "      <td>2</td>\n",
       "      <td>1</td>\n",
       "      <td>1</td>\n",
       "      <td>0.0</td>\n",
       "      <td>0</td>\n",
       "      <td>Cetartiodactyla</td>\n",
       "      <td>True</td>\n",
       "      <td>True</td>\n",
       "      <td>NaN</td>\n",
       "    </tr>\n",
       "    <tr>\n",
       "      <th>4</th>\n",
       "      <td>Allochrocebus</td>\n",
       "      <td>3.0</td>\n",
       "      <td>5708.333333</td>\n",
       "      <td>90.0</td>\n",
       "      <td>1.0</td>\n",
       "      <td>0.0</td>\n",
       "      <td>0.0</td>\n",
       "      <td>0.0</td>\n",
       "      <td>0.0</td>\n",
       "      <td>1.0</td>\n",
       "      <td>...</td>\n",
       "      <td>1</td>\n",
       "      <td>0</td>\n",
       "      <td>0</td>\n",
       "      <td>0</td>\n",
       "      <td>0.0</td>\n",
       "      <td>1</td>\n",
       "      <td>Primates</td>\n",
       "      <td>True</td>\n",
       "      <td>True</td>\n",
       "      <td>NaN</td>\n",
       "    </tr>\n",
       "  </tbody>\n",
       "</table>\n",
       "<p>5 rows × 22 columns</p>\n",
       "</div>"
      ],
      "text/plain": [
       "           Genus    n    Mass.g_Mean  Diet.Plant_Mean  HYP_Mean  LOP_Mean  \\\n",
       "0          Addax  1.0   70000.300000            100.0       3.0       2.0   \n",
       "1      Aepyceros  1.0   52500.100000            100.0       3.0       2.0   \n",
       "2     Alcelaphus  1.0  171001.500000            100.0       3.0       2.0   \n",
       "3          Alces  1.0  356998.000000            100.0       1.0       2.0   \n",
       "4  Allochrocebus  3.0    5708.333333             90.0       1.0       0.0   \n",
       "\n",
       "   FCT_AL_Mean  FCT_OL_Mean  FCT_SF_Mean  BUN_Mean  ...  HYP_Mode  LOP_Mode  \\\n",
       "0          0.0          1.0          1.0       0.0  ...         3         2   \n",
       "1          0.0          1.0          0.0       0.0  ...         3         2   \n",
       "2          0.0          1.0          0.0       0.0  ...         3         2   \n",
       "3          1.0          1.0          0.0       0.0  ...         1         2   \n",
       "4          0.0          0.0          0.0       1.0  ...         1         0   \n",
       "\n",
       "   FCT_AL_Mode  FCT_OL_Mode  FCT_SF_Mode  BUN_Mode            Order  \\\n",
       "0            0            1          1.0         0  Cetartiodactyla   \n",
       "1            0            1          0.0         0  Cetartiodactyla   \n",
       "2            0            1          0.0         0  Cetartiodactyla   \n",
       "3            1            1          0.0         0  Cetartiodactyla   \n",
       "4            0            0          0.0         1         Primates   \n",
       "\n",
       "   ConsInGenhyp ConsInGen_bun  Unnamed: 21  \n",
       "0          True          True          NaN  \n",
       "1          True          True          NaN  \n",
       "2          True          True          NaN  \n",
       "3          True          True          NaN  \n",
       "4          True          True          NaN  \n",
       "\n",
       "[5 rows x 22 columns]"
      ]
     },
     "execution_count": 3,
     "metadata": {},
     "output_type": "execute_result"
    }
   ],
   "source": [
    "dent_genus.head()"
   ]
  },
  {
   "cell_type": "code",
   "execution_count": 4,
   "metadata": {},
   "outputs": [
    {
     "data": {
      "text/html": [
       "<div>\n",
       "<style scoped>\n",
       "    .dataframe tbody tr th:only-of-type {\n",
       "        vertical-align: middle;\n",
       "    }\n",
       "\n",
       "    .dataframe tbody tr th {\n",
       "        vertical-align: top;\n",
       "    }\n",
       "\n",
       "    .dataframe thead th {\n",
       "        text-align: right;\n",
       "    }\n",
       "</style>\n",
       "<table border=\"1\" class=\"dataframe\">\n",
       "  <thead>\n",
       "    <tr style=\"text-align: right;\">\n",
       "      <th></th>\n",
       "      <th>Unnamed: 0</th>\n",
       "      <th>Binomial</th>\n",
       "      <th>Order</th>\n",
       "      <th>Family</th>\n",
       "      <th>Mass.g</th>\n",
       "      <th>Mass.Method</th>\n",
       "      <th>Mass.Source</th>\n",
       "      <th>Diet.Plant</th>\n",
       "      <th>Diet.Vertebrate</th>\n",
       "      <th>Diet.Invertebrate</th>\n",
       "      <th>...</th>\n",
       "      <th>FCT_HOD</th>\n",
       "      <th>FCT_AL</th>\n",
       "      <th>FCT_OL</th>\n",
       "      <th>FCT_SF</th>\n",
       "      <th>FCT_OT</th>\n",
       "      <th>FCT_CM</th>\n",
       "      <th>OO</th>\n",
       "      <th>ETH</th>\n",
       "      <th>LOPT</th>\n",
       "      <th>BUN</th>\n",
       "    </tr>\n",
       "  </thead>\n",
       "  <tbody>\n",
       "    <tr>\n",
       "      <th>0</th>\n",
       "      <td>1</td>\n",
       "      <td>Addax_nasomaculatus</td>\n",
       "      <td>Cetartiodactyla</td>\n",
       "      <td>Bovidae</td>\n",
       "      <td>70000.3</td>\n",
       "      <td>Reported</td>\n",
       "      <td>Smith, F. A., et al. 2003. Body mass of late Q...</td>\n",
       "      <td>100</td>\n",
       "      <td>0</td>\n",
       "      <td>0</td>\n",
       "      <td>...</td>\n",
       "      <td>1</td>\n",
       "      <td>0</td>\n",
       "      <td>1</td>\n",
       "      <td>1</td>\n",
       "      <td>0</td>\n",
       "      <td>0</td>\n",
       "      <td>0</td>\n",
       "      <td>0</td>\n",
       "      <td>0</td>\n",
       "      <td>0</td>\n",
       "    </tr>\n",
       "    <tr>\n",
       "      <th>1</th>\n",
       "      <td>2</td>\n",
       "      <td>Aepyceros_melampus</td>\n",
       "      <td>Cetartiodactyla</td>\n",
       "      <td>Bovidae</td>\n",
       "      <td>52500.1</td>\n",
       "      <td>Reported</td>\n",
       "      <td>Smith, F. A., et al. 2003. Body mass of late Q...</td>\n",
       "      <td>100</td>\n",
       "      <td>0</td>\n",
       "      <td>0</td>\n",
       "      <td>...</td>\n",
       "      <td>1</td>\n",
       "      <td>0</td>\n",
       "      <td>1</td>\n",
       "      <td>0</td>\n",
       "      <td>0</td>\n",
       "      <td>0</td>\n",
       "      <td>1</td>\n",
       "      <td>0</td>\n",
       "      <td>0</td>\n",
       "      <td>0</td>\n",
       "    </tr>\n",
       "    <tr>\n",
       "      <th>2</th>\n",
       "      <td>3</td>\n",
       "      <td>Alcelaphus_buselaphus</td>\n",
       "      <td>Cetartiodactyla</td>\n",
       "      <td>Bovidae</td>\n",
       "      <td>171001.5</td>\n",
       "      <td>Reported</td>\n",
       "      <td>Smith, F. A., et al. 2003. Body mass of late Q...</td>\n",
       "      <td>100</td>\n",
       "      <td>0</td>\n",
       "      <td>0</td>\n",
       "      <td>...</td>\n",
       "      <td>1</td>\n",
       "      <td>0</td>\n",
       "      <td>1</td>\n",
       "      <td>0</td>\n",
       "      <td>1</td>\n",
       "      <td>0</td>\n",
       "      <td>0</td>\n",
       "      <td>0</td>\n",
       "      <td>0</td>\n",
       "      <td>0</td>\n",
       "    </tr>\n",
       "    <tr>\n",
       "      <th>3</th>\n",
       "      <td>4</td>\n",
       "      <td>Alces_alces</td>\n",
       "      <td>Cetartiodactyla</td>\n",
       "      <td>Cervidae</td>\n",
       "      <td>356998.0</td>\n",
       "      <td>Reported</td>\n",
       "      <td>Smith, F. A., et al. 2003. Body mass of late Q...</td>\n",
       "      <td>100</td>\n",
       "      <td>0</td>\n",
       "      <td>0</td>\n",
       "      <td>...</td>\n",
       "      <td>1</td>\n",
       "      <td>1</td>\n",
       "      <td>1</td>\n",
       "      <td>0</td>\n",
       "      <td>0</td>\n",
       "      <td>0</td>\n",
       "      <td>0</td>\n",
       "      <td>0</td>\n",
       "      <td>0</td>\n",
       "      <td>0</td>\n",
       "    </tr>\n",
       "    <tr>\n",
       "      <th>4</th>\n",
       "      <td>5</td>\n",
       "      <td>Allochrocebus_lhoesti</td>\n",
       "      <td>Primates</td>\n",
       "      <td>Cercopithecidae</td>\n",
       "      <td>5375.0</td>\n",
       "      <td>Reported</td>\n",
       "      <td>Smith, F. A., et al. 2003. Body mass of late Q...</td>\n",
       "      <td>90</td>\n",
       "      <td>10</td>\n",
       "      <td>0</td>\n",
       "      <td>...</td>\n",
       "      <td>1</td>\n",
       "      <td>0</td>\n",
       "      <td>0</td>\n",
       "      <td>0</td>\n",
       "      <td>0</td>\n",
       "      <td>0</td>\n",
       "      <td>0</td>\n",
       "      <td>0</td>\n",
       "      <td>0</td>\n",
       "      <td>1</td>\n",
       "    </tr>\n",
       "  </tbody>\n",
       "</table>\n",
       "<p>5 rows × 33 columns</p>\n",
       "</div>"
      ],
      "text/plain": [
       "   Unnamed: 0               Binomial            Order           Family  \\\n",
       "0           1    Addax_nasomaculatus  Cetartiodactyla          Bovidae   \n",
       "1           2     Aepyceros_melampus  Cetartiodactyla          Bovidae   \n",
       "2           3  Alcelaphus_buselaphus  Cetartiodactyla          Bovidae   \n",
       "3           4            Alces_alces  Cetartiodactyla         Cervidae   \n",
       "4           5  Allochrocebus_lhoesti         Primates  Cercopithecidae   \n",
       "\n",
       "     Mass.g Mass.Method                                        Mass.Source  \\\n",
       "0   70000.3    Reported  Smith, F. A., et al. 2003. Body mass of late Q...   \n",
       "1   52500.1    Reported  Smith, F. A., et al. 2003. Body mass of late Q...   \n",
       "2  171001.5    Reported  Smith, F. A., et al. 2003. Body mass of late Q...   \n",
       "3  356998.0    Reported  Smith, F. A., et al. 2003. Body mass of late Q...   \n",
       "4    5375.0    Reported  Smith, F. A., et al. 2003. Body mass of late Q...   \n",
       "\n",
       "   Diet.Plant  Diet.Vertebrate  Diet.Invertebrate  ... FCT_HOD FCT_AL  FCT_OL  \\\n",
       "0         100                0                  0  ...       1      0       1   \n",
       "1         100                0                  0  ...       1      0       1   \n",
       "2         100                0                  0  ...       1      0       1   \n",
       "3         100                0                  0  ...       1      1       1   \n",
       "4          90               10                  0  ...       1      0       0   \n",
       "\n",
       "  FCT_SF  FCT_OT  FCT_CM OO ETH LOPT BUN  \n",
       "0      1       0       0  0   0    0   0  \n",
       "1      0       0       0  1   0    0   0  \n",
       "2      0       1       0  0   0    0   0  \n",
       "3      0       0       0  0   0    0   0  \n",
       "4      0       0       0  0   0    0   1  \n",
       "\n",
       "[5 rows x 33 columns]"
      ]
     },
     "execution_count": 4,
     "metadata": {},
     "output_type": "execute_result"
    }
   ],
   "source": [
    "dent_species.head()"
   ]
  },
  {
   "cell_type": "code",
   "execution_count": 5,
   "metadata": {},
   "outputs": [
    {
     "data": {
      "text/html": [
       "<div>\n",
       "<style scoped>\n",
       "    .dataframe tbody tr th:only-of-type {\n",
       "        vertical-align: middle;\n",
       "    }\n",
       "\n",
       "    .dataframe tbody tr th {\n",
       "        vertical-align: top;\n",
       "    }\n",
       "\n",
       "    .dataframe thead th {\n",
       "        text-align: right;\n",
       "    }\n",
       "</style>\n",
       "<table border=\"1\" class=\"dataframe\">\n",
       "  <thead>\n",
       "    <tr style=\"text-align: right;\">\n",
       "      <th></th>\n",
       "      <th>Genus</th>\n",
       "      <th>Order</th>\n",
       "      <th>Family</th>\n",
       "      <th>MassSource</th>\n",
       "      <th>Massg</th>\n",
       "      <th>LogMass</th>\n",
       "      <th>LargeSmall</th>\n",
       "      <th>SizeClass</th>\n",
       "      <th>Diet</th>\n",
       "      <th>DietSource</th>\n",
       "    </tr>\n",
       "  </thead>\n",
       "  <tbody>\n",
       "    <tr>\n",
       "      <th>0</th>\n",
       "      <td>Abudhabia</td>\n",
       "      <td>Rodentia</td>\n",
       "      <td>Muridae</td>\n",
       "      <td>Family average</td>\n",
       "      <td>1.343147e+02</td>\n",
       "      <td>2.128124</td>\n",
       "      <td>Small</td>\n",
       "      <td>small</td>\n",
       "      <td>Herbivore</td>\n",
       "      <td>Phylacine</td>\n",
       "    </tr>\n",
       "    <tr>\n",
       "      <th>1</th>\n",
       "      <td>Aceratherium</td>\n",
       "      <td>Perissodactyla</td>\n",
       "      <td>Rhinocerotidae</td>\n",
       "      <td>Cooke</td>\n",
       "      <td>1.099006e+06</td>\n",
       "      <td>6.041000</td>\n",
       "      <td>Large</td>\n",
       "      <td>large</td>\n",
       "      <td>Herbivore</td>\n",
       "      <td>Phylacine</td>\n",
       "    </tr>\n",
       "    <tr>\n",
       "      <th>2</th>\n",
       "      <td>Acinonyx</td>\n",
       "      <td>Carnivora</td>\n",
       "      <td>Felidae</td>\n",
       "      <td>Phylacine</td>\n",
       "      <td>4.670000e+04</td>\n",
       "      <td>4.669317</td>\n",
       "      <td>Large</td>\n",
       "      <td>large</td>\n",
       "      <td>Non-Herbivore</td>\n",
       "      <td>Phylacine</td>\n",
       "    </tr>\n",
       "    <tr>\n",
       "      <th>3</th>\n",
       "      <td>Aepyosciurus</td>\n",
       "      <td>Rodentia</td>\n",
       "      <td>Sciuridae</td>\n",
       "      <td>NOW</td>\n",
       "      <td>2.860000e+02</td>\n",
       "      <td>2.456366</td>\n",
       "      <td>Small</td>\n",
       "      <td>small</td>\n",
       "      <td>Herbivore</td>\n",
       "      <td>Phylacine</td>\n",
       "    </tr>\n",
       "    <tr>\n",
       "      <th>4</th>\n",
       "      <td>Aeretes</td>\n",
       "      <td>Rodentia</td>\n",
       "      <td>Sciuridae</td>\n",
       "      <td>Phylacine</td>\n",
       "      <td>7.324000e+02</td>\n",
       "      <td>2.864748</td>\n",
       "      <td>Small</td>\n",
       "      <td>small</td>\n",
       "      <td>Herbivore</td>\n",
       "      <td>Phylacine</td>\n",
       "    </tr>\n",
       "  </tbody>\n",
       "</table>\n",
       "</div>"
      ],
      "text/plain": [
       "          Genus           Order          Family      MassSource         Massg  \\\n",
       "0     Abudhabia        Rodentia         Muridae  Family average  1.343147e+02   \n",
       "1  Aceratherium  Perissodactyla  Rhinocerotidae           Cooke  1.099006e+06   \n",
       "2      Acinonyx       Carnivora         Felidae       Phylacine  4.670000e+04   \n",
       "3  Aepyosciurus        Rodentia       Sciuridae             NOW  2.860000e+02   \n",
       "4       Aeretes        Rodentia       Sciuridae       Phylacine  7.324000e+02   \n",
       "\n",
       "    LogMass LargeSmall SizeClass           Diet DietSource  \n",
       "0  2.128124      Small     small      Herbivore  Phylacine  \n",
       "1  6.041000      Large     large      Herbivore  Phylacine  \n",
       "2  4.669317      Large     large  Non-Herbivore  Phylacine  \n",
       "3  2.456366      Small     small      Herbivore  Phylacine  \n",
       "4  2.864748      Small     small      Herbivore  Phylacine  "
      ]
     },
     "execution_count": 5,
     "metadata": {},
     "output_type": "execute_result"
    }
   ],
   "source": [
    "mass_diet.head()"
   ]
  },
  {
   "cell_type": "markdown",
   "metadata": {},
   "source": [
    "### Dent_genus:"
   ]
  },
  {
   "cell_type": "markdown",
   "metadata": {},
   "source": [
    "    mass:\n",
    "Most have similar mass\n",
    "\n",
    "    diet:\n",
    "most of their diet is 100% plant based\n",
    "\n",
    "    "
   ]
  },
  {
   "cell_type": "code",
   "execution_count": 6,
   "metadata": {},
   "outputs": [
    {
     "data": {
      "text/plain": [
       "Index(['Genus', 'n', 'Mass.g_Mean', 'Diet.Plant_Mean', 'HYP_Mean', 'LOP_Mean',\n",
       "       'FCT_AL_Mean', 'FCT_OL_Mean', 'FCT_SF_Mean', 'BUN_Mean', 'Mass.g_Mode',\n",
       "       'Diet.Plant_Mode', 'HYP_Mode', 'LOP_Mode', 'FCT_AL_Mode', 'FCT_OL_Mode',\n",
       "       'FCT_SF_Mode', 'BUN_Mode', 'Order', 'ConsInGenhyp', 'ConsInGen_bun',\n",
       "       'Unnamed: 21'],\n",
       "      dtype='object')"
      ]
     },
     "execution_count": 6,
     "metadata": {},
     "output_type": "execute_result"
    }
   ],
   "source": [
    "dent_genus.columns"
   ]
  },
  {
   "cell_type": "code",
   "execution_count": 7,
   "metadata": {},
   "outputs": [
    {
     "data": {
      "text/plain": [
       "<matplotlib.legend.Legend at 0x7f1d0149aad0>"
      ]
     },
     "execution_count": 7,
     "metadata": {},
     "output_type": "execute_result"
    },
    {
     "data": {
      "image/png": "[encoded data removed]",
      "text/plain": [
       "<Figure size 640x480 with 1 Axes>"
      ]
     },
     "metadata": {},
     "output_type": "display_data"
    }
   ],
   "source": [
    "plt.hist(dent_genus[['Mass.g_Mean']], label=['Mass.g_Mean'])\n",
    "plt.legend()"
   ]
  },
  {
   "cell_type": "code",
   "execution_count": 8,
   "metadata": {},
   "outputs": [
    {
     "data": {
      "text/plain": [
       "<matplotlib.legend.Legend at 0x7f1d013ecd00>"
      ]
     },
     "execution_count": 8,
     "metadata": {},
     "output_type": "execute_result"
    },
    {
     "data": {
      "image/png": "[encoded data removed]",
      "text/plain": [
       "<Figure size 640x480 with 1 Axes>"
      ]
     },
     "metadata": {},
     "output_type": "display_data"
    }
   ],
   "source": [
    "plt.hist(dent_genus[['Diet.Plant_Mean']], label=['Diet.Plant_Mean'])\n",
    "plt.legend()"
   ]
  },
  {
   "cell_type": "code",
   "execution_count": 9,
   "metadata": {},
   "outputs": [
    {
     "data": {
      "text/plain": [
       "<matplotlib.legend.Legend at 0x7f1d00bb8460>"
      ]
     },
     "execution_count": 9,
     "metadata": {},
     "output_type": "execute_result"
    },
    {
     "data": {
      "image/png": "[encoded data removed]",
      "text/plain": [
       "<Figure size 640x480 with 1 Axes>"
      ]
     },
     "metadata": {},
     "output_type": "display_data"
    }
   ],
   "source": [
    "l = list(dent_genus.columns[4:10])+list(dent_genus.columns[12:18])\n",
    "plt.hist(dent_genus.iloc[:,np.r_[4:10,12:18]], label=l)\n",
    "plt.legend()"
   ]
  },
  {
   "cell_type": "code",
   "execution_count": null,
   "metadata": {},
   "outputs": [],
   "source": []
  },
  {
   "cell_type": "markdown",
   "metadata": {},
   "source": [
    "### Dent species:"
   ]
  },
  {
   "cell_type": "markdown",
   "metadata": {},
   "source": [
    "    mass:\n",
    "Most have similar mass\n",
    "\n",
    "    diet:\n",
    "most of their diet is 100% plant based\n"
   ]
  },
  {
   "cell_type": "code",
   "execution_count": 10,
   "metadata": {},
   "outputs": [
    {
     "data": {
      "text/plain": [
       "Index(['Unnamed: 0', 'Binomial', 'Order', 'Family', 'Mass.g', 'Mass.Method',\n",
       "       'Mass.Source', 'Diet.Plant', 'Diet.Vertebrate', 'Diet.Invertebrate',\n",
       "       'Diet.Method', 'Diet.Source', 'AL', 'Source', 'HYP.x', 'LOP.x',\n",
       "       'Fully.coded', 'Genus', 'Species', 'Synonym', 'massg', 'HYP.y', 'LOP.y',\n",
       "       'FCT_HOD', 'FCT_AL', 'FCT_OL', 'FCT_SF', 'FCT_OT', 'FCT_CM', 'OO',\n",
       "       'ETH', 'LOPT', 'BUN'],\n",
       "      dtype='object')"
      ]
     },
     "execution_count": 10,
     "metadata": {},
     "output_type": "execute_result"
    }
   ],
   "source": [
    "dent_species.columns"
   ]
  },
  {
   "cell_type": "code",
   "execution_count": 11,
   "metadata": {},
   "outputs": [
    {
     "data": {
      "text/plain": [
       "Unnamed: 0             int64\n",
       "Binomial              object\n",
       "Order                 object\n",
       "Family                object\n",
       "Mass.g               float64\n",
       "Mass.Method           object\n",
       "Mass.Source           object\n",
       "Diet.Plant             int64\n",
       "Diet.Vertebrate        int64\n",
       "Diet.Invertebrate      int64\n",
       "Diet.Method           object\n",
       "Diet.Source           object\n",
       "AL                     int64\n",
       "Source                object\n",
       "HYP.x                  int64\n",
       "LOP.x                  int64\n",
       "Fully.coded           object\n",
       "Genus                 object\n",
       "Species               object\n",
       "Synonym               object\n",
       "massg                float64\n",
       "HYP.y                  int64\n",
       "LOP.y                  int64\n",
       "FCT_HOD                int64\n",
       "FCT_AL                 int64\n",
       "FCT_OL                 int64\n",
       "FCT_SF                 int64\n",
       "FCT_OT                 int64\n",
       "FCT_CM                 int64\n",
       "OO                     int64\n",
       "ETH                    int64\n",
       "LOPT                   int64\n",
       "BUN                    int64\n",
       "dtype: object"
      ]
     },
     "execution_count": 11,
     "metadata": {},
     "output_type": "execute_result"
    }
   ],
   "source": [
    "dent_species.dtypes"
   ]
  },
  {
   "cell_type": "code",
   "execution_count": 12,
   "metadata": {},
   "outputs": [
    {
     "data": {
      "text/plain": [
       "<matplotlib.legend.Legend at 0x7f1d00966ad0>"
      ]
     },
     "execution_count": 12,
     "metadata": {},
     "output_type": "execute_result"
    },
    {
     "data": {
      "image/png": "[encoded data removed]",
      "text/plain": [
       "<Figure size 640x480 with 1 Axes>"
      ]
     },
     "metadata": {},
     "output_type": "display_data"
    }
   ],
   "source": [
    "plt.hist(dent_species[['Mass.g']], label=['Mass.g'])\n",
    "plt.legend()"
   ]
  },
  {
   "cell_type": "code",
   "execution_count": 13,
   "metadata": {},
   "outputs": [
    {
     "data": {
      "text/plain": [
       "<matplotlib.legend.Legend at 0x7f1d009e9d20>"
      ]
     },
     "execution_count": 13,
     "metadata": {},
     "output_type": "execute_result"
    },
    {
     "data": {
      "image/png": "[encoded data removed]",
      "text/plain": [
       "<Figure size 640x480 with 1 Axes>"
      ]
     },
     "metadata": {},
     "output_type": "display_data"
    }
   ],
   "source": [
    "plt.hist(dent_species[['Diet.Plant', 'Diet.Vertebrate', 'Diet.Invertebrate']], label=['plant', 'vertabrate', 'intervertabrate'])\n",
    "plt.legend()"
   ]
  },
  {
   "cell_type": "code",
   "execution_count": 14,
   "metadata": {},
   "outputs": [
    {
     "data": {
      "text/plain": [
       "<matplotlib.legend.Legend at 0x7f1d008c51e0>"
      ]
     },
     "execution_count": 14,
     "metadata": {},
     "output_type": "execute_result"
    },
    {
     "data": {
      "image/png": "[encoded data removed]",
      "text/plain": [
       "<Figure size 640x480 with 1 Axes>"
      ]
     },
     "metadata": {},
     "output_type": "display_data"
    }
   ],
   "source": [
    "l = list(dent_species.columns[14:16])+list(dent_species.columns[21:33])\n",
    "plt.hist(dent_species.iloc[:,np.r_[14:16,21:33]], label=l)\n",
    "plt.legend()"
   ]
  },
  {
   "cell_type": "code",
   "execution_count": null,
   "metadata": {},
   "outputs": [],
   "source": []
  },
  {
   "cell_type": "markdown",
   "metadata": {},
   "source": [
    "### Mass-Diet:"
   ]
  },
  {
   "cell_type": "markdown",
   "metadata": {},
   "source": [
    "    Size:\n",
    "Most are small\n",
    "\n",
    "    Diet:\n",
    "Most are herbivore"
   ]
  },
  {
   "cell_type": "code",
   "execution_count": 15,
   "metadata": {},
   "outputs": [
    {
     "data": {
      "text/plain": [
       "Index(['Genus', 'Order', 'Family', 'MassSource', 'Massg', 'LogMass',\n",
       "       'LargeSmall', 'SizeClass', 'Diet', 'DietSource'],\n",
       "      dtype='object')"
      ]
     },
     "execution_count": 15,
     "metadata": {},
     "output_type": "execute_result"
    }
   ],
   "source": [
    "mass_diet.columns"
   ]
  },
  {
   "cell_type": "code",
   "execution_count": 16,
   "metadata": {},
   "outputs": [
    {
     "data": {
      "text/plain": [
       "Genus          object\n",
       "Order          object\n",
       "Family         object\n",
       "MassSource     object\n",
       "Massg         float64\n",
       "LogMass       float64\n",
       "LargeSmall     object\n",
       "SizeClass      object\n",
       "Diet           object\n",
       "DietSource     object\n",
       "dtype: object"
      ]
     },
     "execution_count": 16,
     "metadata": {},
     "output_type": "execute_result"
    }
   ],
   "source": [
    "mass_diet.dtypes"
   ]
  },
  {
   "cell_type": "code",
   "execution_count": 17,
   "metadata": {},
   "outputs": [
    {
     "data": {
      "text/plain": [
       "<matplotlib.legend.Legend at 0x7f1d006aabc0>"
      ]
     },
     "execution_count": 17,
     "metadata": {},
     "output_type": "execute_result"
    },
    {
     "data": {
      "image/png": "[encoded data removed]",
      "text/plain": [
       "<Figure size 640x480 with 1 Axes>"
      ]
     },
     "metadata": {},
     "output_type": "display_data"
    }
   ],
   "source": [
    "plt.hist(mass_diet[['SizeClass']], label=['size'])\n",
    "plt.legend()"
   ]
  },
  {
   "cell_type": "code",
   "execution_count": 18,
   "metadata": {},
   "outputs": [
    {
     "data": {
      "text/plain": [
       "<matplotlib.legend.Legend at 0x7f1d34114280>"
      ]
     },
     "execution_count": 18,
     "metadata": {},
     "output_type": "execute_result"
    },
    {
     "data": {
      "image/png": "[encoded data removed]",
      "text/plain": [
       "<Figure size 640x480 with 1 Axes>"
      ]
     },
     "metadata": {},
     "output_type": "display_data"
    }
   ],
   "source": [
    "mass_diet = mass_diet.dropna()\n",
    "plt.hist(mass_diet[['Diet']], label=['diet'])\n",
    "plt.legend()"
   ]
  },
  {
   "cell_type": "code",
   "execution_count": null,
   "metadata": {},
   "outputs": [],
   "source": []
  }
 ],
 "metadata": {
  "kernelspec": {
   "display_name": "Python 3",
   "language": "python",
   "name": "python3"
  },
  "language_info": {
   "codemirror_mode": {
    "name": "ipython",
    "version": 3
   },
   "file_extension": ".py",
   "mimetype": "text/x-python",
   "name": "python",
   "nbconvert_exporter": "python",
   "pygments_lexer": "ipython3",
   "version": "3.10.6"
  }
 },
 "nbformat": 4,
 "nbformat_minor": 2
}
