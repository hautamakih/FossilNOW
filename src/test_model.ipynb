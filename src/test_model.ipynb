{
 "cells": [
  {
   "cell_type": "code",
   "execution_count": null,
   "metadata": {},
   "outputs": [],
   "source": [
    "%load_ext autoreload\n",
    "%autoreload 2"
   ]
  },
  {
   "cell_type": "code",
   "execution_count": null,
   "metadata": {},
   "outputs": [],
   "source": [
    "import matplotlib.pyplot as plt\n",
    "import numpy as np\n",
    "import pandas as pd\n",
    "import scipy\n",
    "import seaborn as sns\n",
    "\n",
    "from models import models, utils"
   ]
  },
  {
   "cell_type": "code",
   "execution_count": null,
   "metadata": {},
   "outputs": [],
   "source": [
    "path = \"../data/AllEurasia_NOWinput_Feb24_U3O4_siteinfo.csv\"\n",
    "\n",
    "dataframe = pd.read_csv(path, index_col=0)\n",
    "\n",
    "dataframe.head()"
   ]
  },
  {
   "cell_type": "code",
   "execution_count": null,
   "metadata": {},
   "outputs": [],
   "source": [
    "# dataframe = dataframe.drop(columns=['LIDNUM']).set_index('NAME')"
   ]
  },
  {
   "cell_type": "markdown",
   "metadata": {},
   "source": [
    "## 1. Test with Matrix Factorization"
   ]
  },
  {
   "cell_type": "code",
   "execution_count": null,
   "metadata": {},
   "outputs": [],
   "source": [
    "dim_hid = 10\n",
    "output_prob = True\n",
    "include_tnr = True"
   ]
  },
  {
   "cell_type": "code",
   "execution_count": null,
   "metadata": {},
   "outputs": [],
   "source": [
    "out = models.get_recommend_list_mf(dataframe, output_prob=output_prob, num_epochs=120, lr=4e-3, dim_hid=dim_hid)\n",
    "out.head()"
   ]
  },
  {
   "cell_type": "markdown",
   "metadata": {},
   "source": [
    "#### NOTE\n",
    "\n",
    "If `output_prob` is False, we dont calculate `True Negative Rate` no matter we set flag `include_tnr` as True"
   ]
  },
  {
   "cell_type": "code",
   "execution_count": null,
   "metadata": {},
   "outputs": [],
   "source": [
    "models.get_metrics_mf(dataframe, output_prob=output_prob, dim_hid=dim_hid)"
   ]
  },
  {
   "cell_type": "markdown",
   "metadata": {},
   "source": [
    "### Calculate True Negative Rate (TNR)\n",
    "#### WARNING\n",
    "\n",
    "This is only used if the flag `output_prob` = True and `include_tnr` is True\n",
    "\n",
    "#### NOTE:\n",
    "Note that, in calculating TNR, we only concern about the `true_negative_rate` in the output of the below cell. It is because the model was not trained with dataframe `df_tnr`, so testing `expected_percentile_rank` and `true_positive_rate` on this dataframe is not proper.\n",
    "\n",
    "To calculate TNR, we need a separated dataframe"
   ]
  },
  {
   "cell_type": "code",
   "execution_count": null,
   "metadata": {},
   "outputs": [],
   "source": [
    "if output_prob is True and include_tnr is True:\n",
    "    path_tnr = \"../data/AllSites_truenegatives_Feb24.csv\"\n",
    "\n",
    "    df_tnr_raw = pd.read_csv(path_tnr)\n",
    "\n",
    "    df_tnr = df_tnr_raw\\\n",
    "        .rename(columns={'Unnamed: 0': 'loc_name'})\\\n",
    "        .set_index('loc_name')\\\n",
    "        .map(lambda x: 1 - x)   # Convert non-occurence from 1 to 0 to match with the code in function calc_tnr()\n",
    "\n",
    "    df_tnr_mf = utils.create_test_tnr(df_tnr)\n",
    "\n",
    "    models.get_metrics_mf(df_tnr_mf, output_prob=output_prob, dim_hid=dim_hid, include_tnr=include_tnr)"
   ]
  },
  {
   "cell_type": "markdown",
   "metadata": {},
   "source": [
    "## 2. Test with KNN"
   ]
  },
  {
   "cell_type": "code",
   "execution_count": null,
   "metadata": {},
   "outputs": [],
   "source": [
    "out = models.get_recommend_list_knn(dataframe, output_prob=output_prob)\n",
    "\n",
    "out.head()"
   ]
  },
  {
   "cell_type": "code",
   "execution_count": null,
   "metadata": {},
   "outputs": [],
   "source": [
    "models.get_metrics_knn(dataframe, output_prob=output_prob)"
   ]
  },
  {
   "cell_type": "markdown",
   "metadata": {},
   "source": [
    "### Calculate True Negative Rate (TNR)\n",
    "#### WARNING:\n",
    "This is only used if the flag `output_prob` = True and `include_tnr` = True\n",
    "\n",
    "#### NOTE:\n",
    "Note that, in calculating TNR, we only concern about the `true_negative_rate` in the output of the below cell. It is because the model was not trained with dataframe `df_tnr`, so testing `expected_percentile_rank` and `true_positive_rate` on this dataframe is not proper.\n",
    "\n",
    "To calculate TNR with KNN, the input dataframe `df_tnr` "
   ]
  },
  {
   "cell_type": "code",
   "execution_count": null,
   "metadata": {},
   "outputs": [],
   "source": [
    "if output_prob is True and include_tnr is True:\n",
    "    path_tnr = \"../data/AllSites_truenegatives_Feb24.csv\"\n",
    "\n",
    "    df_tnr_raw = pd.read_csv(path_tnr)\n",
    "\n",
    "    df_tnr = df_tnr_raw\\\n",
    "        .rename(columns={'Unnamed: 0': 'loc_name'})\\\n",
    "        .set_index('loc_name')\\\n",
    "        .map(lambda x: 1 - x)   # Convert non-occurence from 1 to 0 to match with the code in function calc_tnr()\n",
    "    \n",
    "    models.get_metrics_knn(df_tnr, output_prob=output_prob, include_tnr=include_tnr)"
   ]
  },
  {
   "cell_type": "markdown",
   "metadata": {},
   "source": [
    "## 3. Test with Content-Based Filtering"
   ]
  },
  {
   "cell_type": "code",
   "execution_count": null,
   "metadata": {},
   "outputs": [],
   "source": [
    "# Genus data is necessary for content based filtering\n",
    "genus_data_path = \"../data/FossilGenera_MammalMassDiet_Jan24.csv\"\n",
    "df_genus_data = pd.read_csv(genus_data_path, sep=\",\")\n",
    "\n",
    "dental_data_path = \"../data/DentalTraits_Genus_PPPA_ds.csv\"\n",
    "df_dental_data = pd.read_csv(dental_data_path, sep=\",\")\n",
    "\n",
    "# Genus data must be preprocessed beforehand\n",
    "\n",
    "dental_cols = [\n",
    "    \"Genus\",\n",
    "    \"HY\",\n",
    "    \"LOP\",\n",
    "    \"AL\",\n",
    "    \"OL\",\n",
    "    \"SF\",\n",
    "    \"BUN\",\n",
    "    \"OT\",\n",
    "    \"Excl_AL\"\n",
    "]\n",
    "\n",
    "df_dental_data = df_dental_data[dental_cols]\n",
    "\n",
    "# With genus info, give the columns you want to use and convert categorical using one-hot-encoding\n",
    "genus_info_cols = [\n",
    "    \"Genus\",\n",
    "    \"Order\",\n",
    "    \"Family\",\n",
    "    \"Massg\",\n",
    "    \"Diet\",\n",
    "    \"DietSource\"\n",
    "]\n",
    "        \n",
    "df_genus_data = df_genus_data[genus_info_cols]\n",
    "\n",
    "dummy_cols = [\n",
    "    \"Order\",\n",
    "    \"Family\",\n",
    "    \"Diet\",\n",
    "    \"DietSource\"\n",
    "]\n",
    "\n",
    "#The genus column must be the first one in genus data\n",
    "df_genus_data = pd.get_dummies(df_genus_data, columns=dummy_cols)\n",
    "df_genus_data = df_genus_data.replace({False: 0, True: 1})\n",
    "\n",
    "# Merging dental data to other genus data\n",
    "df_genus_data = df_genus_data.merge(df_dental_data, \"left\", on=\"Genus\")\n",
    "\n",
    "# The site information must be included into matrix for the algorithm\n",
    "site_columns = [\"NAME\",\n",
    "    # 'LAT',\n",
    "    # 'LONG',\n",
    "    'MAX_AGE',\n",
    "    'MIN_AGE',\n",
    "    # 'age_range',\n",
    "    # 'Large_GenCount',\n",
    "    # 'Small_GenCount',\n",
    "    # 'Herb_GenCount',\n",
    "    # 'Nonherb_GenCount',\n",
    "    'MID_AGE'\n",
    "    ]\n",
    "\n",
    "NUM_OF_SITE_INFO_COLS = 8\n",
    "\n",
    "\n",
    "dataframe_cleaned = dataframe.reset_index()\n",
    "genus_columns = dataframe_cleaned.iloc[:,:-NUM_OF_SITE_INFO_COLS].columns.tolist()\n",
    "df_occurences = dataframe_cleaned[genus_columns]\n",
    "df_site = dataframe_cleaned[site_columns]"
   ]
  },
  {
   "cell_type": "code",
   "execution_count": null,
   "metadata": {},
   "outputs": [],
   "source": [
    "out = models.get_recommend_list_content_base(df_occurences, df_site, df_genus_data)\n",
    "\n",
    "out"
   ]
  },
  {
   "cell_type": "code",
   "execution_count": null,
   "metadata": {},
   "outputs": [],
   "source": [
    "# Dataframe without the site information\n",
    "models.get_metrics_content_base(dataframe.iloc[:,:-NUM_OF_SITE_INFO_COLS])"
   ]
  },
  {
   "cell_type": "markdown",
   "metadata": {},
   "source": [
    "## 4. Test create train/test data"
   ]
  },
  {
   "cell_type": "code",
   "execution_count": null,
   "metadata": {},
   "outputs": [],
   "source": [
    "df_train, df_test = utils.split_traintest(dataframe, is_packed=False, is_encoded=False)"
   ]
  },
  {
   "cell_type": "code",
   "execution_count": null,
   "metadata": {},
   "outputs": [],
   "source": [
    "df_train"
   ]
  },
  {
   "cell_type": "code",
   "execution_count": null,
   "metadata": {},
   "outputs": [],
   "source": [
    "df_test"
   ]
  },
  {
   "cell_type": "code",
   "execution_count": null,
   "metadata": {},
   "outputs": [],
   "source": []
  }
 ],
 "metadata": {
  "kernelspec": {
   "display_name": "py",
   "language": "python",
   "name": "python3"
  },
  "language_info": {
   "codemirror_mode": {
    "name": "ipython",
    "version": 3
   },
   "file_extension": ".py",
   "mimetype": "text/x-python",
   "name": "python",
   "nbconvert_exporter": "python",
   "pygments_lexer": "ipython3",
   "version": "3.10.13"
  }
 },
 "nbformat": 4,
 "nbformat_minor": 2
}
